{
 "cells": [
  {
   "cell_type": "code",
   "execution_count": null,
   "id": "4171bd56-9fd3-49e6-9321-f4b19b12cf78",
   "metadata": {},
   "outputs": [],
   "source": [
    "import numpy as np\n",
    "import pandas as pd\n",
    "import requests\n",
    "import alpha_vantage"
   ]
  },
  {
   "cell_type": "code",
   "execution_count": null,
   "id": "adcfe5a8-55af-4822-91ae-589e6d1ba806",
   "metadata": {},
   "outputs": [],
   "source": [
    "url = 'https://www.alphavantage.co/query?function=TIME_SERIES_MONTHLY&symbol=IBM&apikey=' + alpha_vantage.key\n",
    "r = requests.get(url)\n",
    "data = r.json()\n",
    "\n",
    "print(data)\n"
   ]
  },
  {
   "cell_type": "code",
   "execution_count": null,
   "id": "fa3aa508-4a43-4af1-8c89-8f7153f91aca",
   "metadata": {},
   "outputs": [],
   "source": [
    "data.pop('Meta Data')"
   ]
  },
  {
   "cell_type": "code",
   "execution_count": null,
   "id": "55286854-652b-473e-ad26-1489fda56386",
   "metadata": {},
   "outputs": [],
   "source": [
    "pd.DataFrame(data['Monthly Time Series']).T"
   ]
  },
  {
   "cell_type": "code",
   "execution_count": null,
   "id": "b0b26837-9cc5-4d8a-80eb-871480cc0345",
   "metadata": {},
   "outputs": [],
   "source": [
    "data"
   ]
  },
  {
   "cell_type": "code",
   "execution_count": null,
   "id": "e822e112-d5aa-49a5-ba3d-f0603bc367a6",
   "metadata": {},
   "outputs": [],
   "source": []
  }
 ],
 "metadata": {
  "kernelspec": {
   "display_name": "Python 3 (ipykernel)",
   "language": "python",
   "name": "python3"
  },
  "language_info": {
   "codemirror_mode": {
    "name": "ipython",
    "version": 3
   },
   "file_extension": ".py",
   "mimetype": "text/x-python",
   "name": "python",
   "nbconvert_exporter": "python",
   "pygments_lexer": "ipython3",
   "version": "3.8.3"
  }
 },
 "nbformat": 4,
 "nbformat_minor": 5
}
