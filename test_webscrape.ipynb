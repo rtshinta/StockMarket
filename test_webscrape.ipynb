{
 "cells": [
  {
   "cell_type": "code",
   "execution_count": 4,
   "id": "d9dfde62-d839-42ca-af38-117f97fa99b5",
   "metadata": {},
   "outputs": [],
   "source": [
    "from requests import get\n",
    "\n",
    "url = 'http://www.imdb.com/search/title?release_date=2018&sort=num_votes,desc&page=1'\n",
    "\n",
    "response = get(url)"
   ]
  },
  {
   "cell_type": "code",
   "execution_count": 5,
   "id": "9dde7086-4a0a-490d-bbe4-34ba13535444",
   "metadata": {},
   "outputs": [
    {
     "name": "stdout",
     "output_type": "stream",
     "text": [
      "<class 'bs4.element.ResultSet'>\n",
      "50\n"
     ]
    }
   ],
   "source": [
    "from bs4 import BeautifulSoup\n",
    "\n",
    "html_soup = BeautifulSoup(response.text, 'html.parser')\n",
    "type(html_soup)\n",
    "\n",
    "movie_containers = html_soup.findAll(\n",
    "           'div', class_ = 'lister-item mode-advanced')\n",
    "print(type(movie_containers))\n",
    "print(len(movie_containers))"
   ]
  },
  {
   "cell_type": "code",
   "execution_count": 7,
   "id": "9fb45832-32a8-4930-859d-0efebd468def",
   "metadata": {},
   "outputs": [],
   "source": [
    "first_movie = movie_containers[0]\n",
    "first_movie.h3.a.text #title\n",
    "first_year = first_movie.h3.find('span', class_ = 'lister-item-year text-muted unbold') #year\n",
    "float(first_move.strong.text) #rating\n",
    "span = first_movie.findAll('span', attrs = {'name':'nv'})[1]\n",
    "span.text # Gross profit\n"
   ]
  },
  {
   "cell_type": "code",
   "execution_count": 9,
   "id": "f9c0856b-ec29-48c4-be8b-cbef8925fea5",
   "metadata": {},
   "outputs": [
    {
     "data": {
      "text/plain": [
       "'Avengers: Infinity War'"
      ]
     },
     "execution_count": 9,
     "metadata": {},
     "output_type": "execute_result"
    }
   ],
   "source": [
    "first_movie.h3.a.text"
   ]
  },
  {
   "cell_type": "code",
   "execution_count": 10,
   "id": "b1d520c4-25ee-4e83-b11f-b80f7f66e92b",
   "metadata": {},
   "outputs": [
    {
     "name": "stdout",
     "output_type": "stream",
     "text": [
      "Avengers: Infinity War\n",
      "Black Panther\n",
      "Deadpool 2\n",
      "Bohemian Rhapsody\n",
      "A Quiet Place\n",
      "Spider-Man: Into the Spider-Verse\n",
      "Venom\n",
      "Green Book\n",
      "Aquaman\n",
      "Ready Player One\n",
      "A Star Is Born\n",
      "Ant-Man and the Wasp\n",
      "Solo: A Star Wars Story\n",
      "Bird Box\n",
      "Mission: Impossible - Fallout\n",
      "Annihilation\n",
      "Jurassic World: Fallen Kingdom\n",
      "Hereditary\n",
      "Incredibles 2\n",
      "BlacKkKlansman\n",
      "Fantastic Beasts: The Crimes of Grindelwald\n",
      "Game Night\n",
      "The Haunting of Hill House\n",
      "You\n",
      "Ocean's Eight\n",
      "Tomb Raider\n",
      "The Favourite\n",
      "First Man\n",
      "Red Sparrow\n",
      "Upgrade\n",
      "The Meg\n",
      "Crazy Rich Asians\n",
      "Rampage\n",
      "Isle of Dogs\n",
      "Altered Carbon\n",
      "Searching\n",
      "Bumblebee\n",
      "Roma\n",
      "The Equalizer 2\n",
      "Ralph Breaks the Internet\n",
      "Cobra Kai\n",
      "Halloween\n",
      "A Simple Favor\n",
      "Bad Times at the El Royale\n",
      "Sicario: Day of the Soldado\n",
      "Vice\n",
      "The Ballad of Buster Scruggs\n",
      "The Nun\n",
      "The Mule\n",
      "Maze Runner: The Death Cure\n"
     ]
    }
   ],
   "source": [
    "for container in movie_containers:\n",
    "    print(container.h3.a.text)"
   ]
  },
  {
   "cell_type": "code",
   "execution_count": null,
   "id": "b296d973-2690-4a49-8978-a6b7b6bda589",
   "metadata": {},
   "outputs": [],
   "source": []
  }
 ],
 "metadata": {
  "kernelspec": {
   "display_name": "Python 3 (ipykernel)",
   "language": "python",
   "name": "python3"
  },
  "language_info": {
   "codemirror_mode": {
    "name": "ipython",
    "version": 3
   },
   "file_extension": ".py",
   "mimetype": "text/x-python",
   "name": "python",
   "nbconvert_exporter": "python",
   "pygments_lexer": "ipython3",
   "version": "3.8.3"
  }
 },
 "nbformat": 4,
 "nbformat_minor": 5
}
