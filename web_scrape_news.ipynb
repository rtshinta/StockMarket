{
 "cells": [
  {
   "cell_type": "code",
   "execution_count": 5,
   "id": "17c710d5-a266-4bf5-a84b-5ef3a5627907",
   "metadata": {},
   "outputs": [],
   "source": [
    "import numpy as np\n",
    "import pandas as pd\n",
    "from requests import get\n",
    "from bs4 import BeautifulSoup\n",
    "from time import *\n",
    "from random import randint\n",
    "from IPython.core.display import clear_output\n",
    "from pandas.io.html import read_html\n",
    "from urllib.request import Request, urlopen"
   ]
  },
  {
   "cell_type": "code",
   "execution_count": 8,
   "id": "42f492bb-ec86-4627-81c0-45a14be4698b",
   "metadata": {},
   "outputs": [],
   "source": [
    "url = 'https://www.investing.com/search/?q=ibm&tab=news'\n",
    "response = Request(url, headers={\"User-Agent\": \"Mozilla/5.0\"})\n",
    "response = urlopen(response).read()\n",
    "soup = BeautifulSoup(response, \"html.parser\")\n"
   ]
  },
  {
   "cell_type": "code",
   "execution_count": 10,
   "id": "269cfd75-37ee-406a-ad68-869f39f4ca24",
   "metadata": {},
   "outputs": [
    {
     "name": "stdout",
     "output_type": "stream",
     "text": [
      "8\n"
     ]
    }
   ],
   "source": [
    "article_containers = soup.findAll('div', class_ = 'articleItem')\n",
    "print(len(article_containers))"
   ]
  },
  {
   "cell_type": "code",
   "execution_count": 13,
   "id": "c0f7a5ec-edfe-4783-aa62-c2a43c4cf12f",
   "metadata": {},
   "outputs": [
    {
     "name": "stdout",
     "output_type": "stream",
     "text": [
      "IBM unveils Project Debater\n",
      "IBM holds shareholder meeting\n",
      "IBM strategy centering around data\n",
      "IBM Breakout\n",
      "IBM Earnings\n",
      "IBM Shares Looking Bearish\n",
      "{{title}}\n",
      "{{title}}\n"
     ]
    }
   ],
   "source": [
    "for article in article_containers:\n",
    "    print(article.div.a.text)"
   ]
  },
  {
   "cell_type": "code",
   "execution_count": null,
   "id": "2fd65287-ca9d-4e5f-8196-0382ea050fc6",
   "metadata": {},
   "outputs": [],
   "source": []
  }
 ],
 "metadata": {
  "kernelspec": {
   "display_name": "Python 3 (ipykernel)",
   "language": "python",
   "name": "python3"
  },
  "language_info": {
   "codemirror_mode": {
    "name": "ipython",
    "version": 3
   },
   "file_extension": ".py",
   "mimetype": "text/x-python",
   "name": "python",
   "nbconvert_exporter": "python",
   "pygments_lexer": "ipython3",
   "version": "3.8.3"
  }
 },
 "nbformat": 4,
 "nbformat_minor": 5
}
