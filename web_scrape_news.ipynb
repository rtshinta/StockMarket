{
 "cells": [
  {
   "cell_type": "code",
   "execution_count": 1,
   "id": "17c710d5-a266-4bf5-a84b-5ef3a5627907",
   "metadata": {},
   "outputs": [],
   "source": [
    "import numpy as np\n",
    "import pandas as pd\n",
    "from requests import get\n",
    "from bs4 import BeautifulSoup\n",
    "from time import *\n",
    "from random import randint\n",
    "from IPython.core.display import clear_output\n",
    "from pandas.io.html import read_html\n",
    "from urllib.request import Request, urlopen\n",
    "import urllib.response"
   ]
  },
  {
   "cell_type": "code",
   "execution_count": 2,
   "id": "42f492bb-ec86-4627-81c0-45a14be4698b",
   "metadata": {},
   "outputs": [],
   "source": [
    "# zacks.com\n",
    "url = 'https://www.investing.com/search/?q=ibm&tab=news'\n",
    "response = Request(url, headers={\"User-Agent\": \"Mozilla/5.0\"})\n",
    "response = urlopen(response).read()\n",
    "soup = BeautifulSoup(response, \"html.parser\")\n"
   ]
  },
  {
   "cell_type": "code",
   "execution_count": 3,
   "id": "269cfd75-37ee-406a-ad68-869f39f4ca24",
   "metadata": {},
   "outputs": [
    {
     "name": "stdout",
     "output_type": "stream",
     "text": [
      "8\n"
     ]
    }
   ],
   "source": [
    "article_containers = soup.findAll('div', class_ = 'articleItem')\n",
    "print(len(article_containers))"
   ]
  },
  {
   "cell_type": "code",
   "execution_count": 4,
   "id": "c0f7a5ec-edfe-4783-aa62-c2a43c4cf12f",
   "metadata": {},
   "outputs": [
    {
     "name": "stdout",
     "output_type": "stream",
     "text": [
      "IBM unveils Project Debater\n",
      "IBM holds shareholder meeting\n",
      "IBM strategy centering around data\n",
      "IBM Breakout\n",
      "IBM Earnings\n",
      "IBM Shares Looking Bearish\n",
      "{{title}}\n",
      "{{title}}\n"
     ]
    }
   ],
   "source": [
    "for article in article_containers:\n",
    "    print(article.div.a.text)"
   ]
  },
  {
   "cell_type": "code",
   "execution_count": 5,
   "id": "2fd65287-ca9d-4e5f-8196-0382ea050fc6",
   "metadata": {},
   "outputs": [],
   "source": [
    "url500 = 'https://www.investing.com/indices/us-spx-500-news/1'\n",
    "response = Request(url500, headers={\"User-Agent\": \"Mozilla/5.0\"})\n",
    "response = urlopen(response).read()\n",
    "soup = BeautifulSoup(response, \"html.parser\")"
   ]
  },
  {
   "cell_type": "code",
   "execution_count": 6,
   "id": "2c0982a2-ac64-4fde-a026-9d3fd28c64be",
   "metadata": {},
   "outputs": [
    {
     "name": "stdout",
     "output_type": "stream",
     "text": [
      "2\n"
     ]
    }
   ],
   "source": [
    "article_containers = soup.findAll('div', class_ = 'mediumTitle1')\n",
    "print(len(article_containers))\n"
   ]
  },
  {
   "cell_type": "code",
   "execution_count": 7,
   "id": "a5d251cf-6c3f-4bc6-99a5-48761823b71c",
   "metadata": {},
   "outputs": [
    {
     "name": "stdout",
     "output_type": "stream",
     "text": [
      "Bitcoin's high correlation with stocks raise chance of investor sentiment spillovers, report say\n",
      " - 13 hours ago\n",
      "Sustainable Investing: The S&P’s energy sector surged more than 50% last year – so how were green funds able to keep up with the stock market?\n",
      " - 16 hours ago\n",
      "Market Snapshot: Get ready for the climb. Here’s what history says about stock-market returns during Fed rate-hike cycles.\n",
      " - 17 hours ago\n",
      "Dow closes lower after disappointing bank results\n",
      " - Jan 14, 2022\n",
      "U.S. stocks mixed at close of trade; Dow Jones Industrial Average down 0.56%\n",
      " - Jan 14, 2022\n",
      "Stocks stumble, yields jump on rates outlook; oil rallies\n",
      " - Jan 14, 2022\n",
      "S&P 500 Delivers 2nd-Weekly Loss as Lackluster Bank Earnings Weigh\n",
      " - Jan 14, 2022\n",
      "Mutual Funds Weekly: These money and investing tips can keep you on top of your stock portfolio even when the bottom is falling out\n",
      " - Jan 14, 2022\n",
      "Dow ends down 200 points as bank shares fall; Nasdaq, S&P 500 gain\n",
      " - Jan 14, 2022\n",
      "Top Ten: Weekend reads: How to invest amid higher inflation and as interest rates rise\n",
      " - Jan 14, 2022\n"
     ]
    }
   ],
   "source": [
    "\n",
    "for i in range(1, len(article_containers)):\n",
    "    #print(article_containers[i].article.div.a.text)\n",
    "    article = article_containers[i].findAll('div', class_ = 'textDiv')\n",
    "    for a in article:\n",
    "        print(a.a.text)\n",
    "        date = a.find('span', class_ = 'date')\n",
    "        print(date.text)\n",
    "    #print(article)\n",
    "    #print(article.article.div.a.text)\n",
    "    print \n",
    "    #print(article.div.div)\n",
    "    #date = article.find('span', class_ = 'date')    \n",
    "    #print(date.text)"
   ]
  },
  {
   "cell_type": "code",
   "execution_count": 8,
   "id": "4cd13239-2577-4773-99fe-c3063c15422b",
   "metadata": {},
   "outputs": [
    {
     "name": "stdout",
     "output_type": "stream",
     "text": [
      "1\n",
      "Request:1; Frequency: 0.08846540312749147 requests/s\n",
      " - 13 hours ago\n",
      " - 16 hours ago\n",
      " - 17 hours ago\n",
      " - Jan 14, 2022\n",
      " - Jan 14, 2022\n",
      " - Jan 14, 2022\n",
      " - Jan 14, 2022\n",
      " - Jan 14, 2022\n",
      " - Jan 14, 2022\n",
      " - Jan 14, 2022\n",
      "2\n",
      "Request:2; Frequency: 0.0811976257978567 requests/s\n",
      " - Jan 14, 2022\n",
      " - Jan 14, 2022\n",
      " - Jan 14, 2022\n",
      " - Jan 14, 2022\n",
      " - Jan 14, 2022\n",
      " - Jan 13, 2022\n",
      " - Jan 13, 2022\n",
      " - Jan 13, 2022\n",
      " - Jan 13, 2022\n",
      " - Jan 13, 2022\n",
      "3\n",
      "Request:3; Frequency: 0.07413719154075707 requests/s\n",
      " - Jan 13, 2022\n",
      " - Jan 13, 2022\n",
      " - Jan 13, 2022\n",
      " - Jan 13, 2022\n",
      " - Jan 13, 2022\n",
      " - Jan 12, 2022\n",
      " - Jan 12, 2022\n",
      " - Jan 12, 2022\n",
      " - Jan 12, 2022\n",
      " - Jan 12, 2022\n",
      "4\n",
      "Request:4; Frequency: 0.07391752684876295 requests/s\n",
      " - Jan 12, 2022\n",
      " - Jan 12, 2022\n",
      " - Jan 12, 2022\n",
      " - Jan 12, 2022\n",
      " - Jan 12, 2022\n",
      " - Jan 12, 2022\n",
      " - Jan 12, 2022\n",
      " - Jan 12, 2022\n",
      " - Jan 12, 2022\n",
      " - Jan 12, 2022\n"
     ]
    }
   ],
   "source": [
    "article_titles = []\n",
    "dates = []\n",
    "requests = 0\n",
    "start_time = time()\n",
    "pages = [str(i) for i in range(1, 5)]\n",
    "for p in pages:\n",
    "    url = 'https://www.investing.com/indices/us-spx-500-news/' + p\n",
    "    print(p)\n",
    "    response = Request(url, headers={\"User-Agent\": \"Mozilla/5.0\"})\n",
    "    status = urlopen(response).status\n",
    "    response = urlopen(response).read()\n",
    "    sleep(randint(8, 15))\n",
    "    requests += 1\n",
    "    elapsed_time = time() - start_time\n",
    "    print('Request:{}; Frequency: {} requests/s'.format(requests, requests/elapsed_time))\n",
    "    #clear_output(wait = True)\n",
    "    if status != 200:\n",
    "        warn('Request: {}; Status code: {}'.format(requests, response.status_code))\n",
    "    soup = BeautifulSoup(response, \"html.parser\")\n",
    "    article_containers = soup.findAll('div', class_ = 'mediumTitle1')\n",
    "    for i in range(1, len(article_containers)):\n",
    "        article = article_containers[i].findAll('div', class_ = 'textDiv')\n",
    "        for a in article:\n",
    "            #print(a.a.text)\n",
    "            article_titles.append(a.a.text)\n",
    "            date = a.find('span', class_ = 'date')\n",
    "            dates.append(date.text)\n",
    "            #print(date.text)\n",
    "\n",
    "    \n",
    "    \n"
   ]
  },
  {
   "cell_type": "code",
   "execution_count": 9,
   "id": "c84325b5-0d82-435c-9448-53604ff91e25",
   "metadata": {},
   "outputs": [
    {
     "data": {
      "text/plain": [
       "[\"Bitcoin's high correlation with stocks raise chance of investor sentiment spillovers, report say\",\n",
       " 'Sustainable Investing: The S&P’s energy sector surged more than 50% last year – so how were green funds able to keep up with the stock market?',\n",
       " 'Market Snapshot: Get ready for the climb. Here’s what history says about stock-market returns during Fed rate-hike cycles.',\n",
       " 'Dow closes lower after disappointing bank results',\n",
       " 'U.S. stocks mixed at close of trade; Dow Jones Industrial Average down 0.56%',\n",
       " 'Stocks stumble, yields jump on rates outlook; oil rallies',\n",
       " 'S&P 500 Delivers 2nd-Weekly Loss as Lackluster Bank Earnings Weigh',\n",
       " 'Mutual Funds Weekly: These money and investing tips can keep you on top of your stock portfolio even when the bottom is falling out',\n",
       " 'Dow ends down 200 points as bank shares fall; Nasdaq, S&P 500 gain',\n",
       " 'Top Ten: Weekend reads: How to invest amid higher inflation and as interest rates rise',\n",
       " 'S&P 500 Falls After Bank Earnings Fail to Impress',\n",
       " 'Earnings to test growth stocks after rocky start to year',\n",
       " 'Wall Street Opens Lower After Retail Sales, Bank Disappointments; Dow Down 280 Pts',\n",
       " 'U.S. Futures Mixed; JPMorgan Leads Banking Earnings Deluge',\n",
       " 'Take Five: U.S. bank earnings, BoJ and (another) virtual Davos',\n",
       " 'Asian Stocks Down, Investors Digest Chinese Trade Data',\n",
       " 'Wall St closes down, Fed speakers put rate hikes in focus',\n",
       " 'U.S. stocks lower at close of trade; Dow Jones Industrial Average down 0.49%',\n",
       " 'Stocks slip, bonds steady after inflation palpitations',\n",
       " 'Analysis-U.S. energy shares on fire again to start 2022, stoked by inflation',\n",
       " 'S&P 500 Slides as Tech Rally Fizzles',\n",
       " 'JPMorgan, Retail Sales, Consumer Confidence: 3 Things to Watch',\n",
       " 'S&P 500 Stumbles as Tech Wreck Resumes',\n",
       " 'Bank Stocks Are Booming Ahead of Earnings Despite Inflation Fear',\n",
       " 'Wall Street Opens Up as PPI Gives Hope of Turn in Prices Trend; Dow up 100 Pts',\n",
       " 'Asian Stocks Down, Investors Digest Higher-Than-Expected U.S. Inflation',\n",
       " 'Wall Street closes higher as inflation data supports Fed bets',\n",
       " 'U.S. stocks higher at close of trade; Dow Jones Industrial Average up 0.11%',\n",
       " 'Investors ready for U.S. earnings as inflation worries run high',\n",
       " 'Stocks up, dollar down; U.S. inflation data surges as forecast',\n",
       " 'Taiwan Semiconductor, Delta Air, Producer Prices: 3 Things to Watch',\n",
       " 'S&P 500 Takes Red-Hot Inflation in Stride as Materials, Tech Shine',\n",
       " 'S&P 500 Inches Higher Following Hottest Inflation Report in Decades',\n",
       " 'Wall Street Opens Higher as CPI Fails to Shock; Dow up 90 Pts',\n",
       " 'Analysis-Rise in real bond yields may slow but not stop stock market bulls',\n",
       " 'After Exxon win, Engine No. 1 turns to diversity, workforce issues',\n",
       " 'U.S. Futures Edge Higher; Key Inflation Data Looms Large',\n",
       " 'Time to buy: Retail investors swoop in when stocks falter',\n",
       " 'Analysis-Elliott, Ancora lead hedge funds in pushing for more women on boards',\n",
       " 'Analysis-Buy the bounce? Investors watch valuations, technical levels to decide']"
      ]
     },
     "execution_count": 9,
     "metadata": {},
     "output_type": "execute_result"
    }
   ],
   "source": [
    "article_titles"
   ]
  },
  {
   "cell_type": "code",
   "execution_count": 10,
   "id": "8f7524c2-5d1e-4520-a8b0-9ff8d61f3fff",
   "metadata": {},
   "outputs": [
    {
     "data": {
      "text/plain": [
       "['\\xa0-\\xa013 hours ago',\n",
       " '\\xa0-\\xa016 hours ago',\n",
       " '\\xa0-\\xa017 hours ago',\n",
       " '\\xa0-\\xa0Jan 14, 2022',\n",
       " '\\xa0-\\xa0Jan 14, 2022',\n",
       " '\\xa0-\\xa0Jan 14, 2022',\n",
       " '\\xa0-\\xa0Jan 14, 2022',\n",
       " '\\xa0-\\xa0Jan 14, 2022',\n",
       " '\\xa0-\\xa0Jan 14, 2022',\n",
       " '\\xa0-\\xa0Jan 14, 2022',\n",
       " '\\xa0-\\xa0Jan 14, 2022',\n",
       " '\\xa0-\\xa0Jan 14, 2022',\n",
       " '\\xa0-\\xa0Jan 14, 2022',\n",
       " '\\xa0-\\xa0Jan 14, 2022',\n",
       " '\\xa0-\\xa0Jan 14, 2022',\n",
       " '\\xa0-\\xa0Jan 13, 2022',\n",
       " '\\xa0-\\xa0Jan 13, 2022',\n",
       " '\\xa0-\\xa0Jan 13, 2022',\n",
       " '\\xa0-\\xa0Jan 13, 2022',\n",
       " '\\xa0-\\xa0Jan 13, 2022',\n",
       " '\\xa0-\\xa0Jan 13, 2022',\n",
       " '\\xa0-\\xa0Jan 13, 2022',\n",
       " '\\xa0-\\xa0Jan 13, 2022',\n",
       " '\\xa0-\\xa0Jan 13, 2022',\n",
       " '\\xa0-\\xa0Jan 13, 2022',\n",
       " '\\xa0-\\xa0Jan 12, 2022',\n",
       " '\\xa0-\\xa0Jan 12, 2022',\n",
       " '\\xa0-\\xa0Jan 12, 2022',\n",
       " '\\xa0-\\xa0Jan 12, 2022',\n",
       " '\\xa0-\\xa0Jan 12, 2022',\n",
       " '\\xa0-\\xa0Jan 12, 2022',\n",
       " '\\xa0-\\xa0Jan 12, 2022',\n",
       " '\\xa0-\\xa0Jan 12, 2022',\n",
       " '\\xa0-\\xa0Jan 12, 2022',\n",
       " '\\xa0-\\xa0Jan 12, 2022',\n",
       " '\\xa0-\\xa0Jan 12, 2022',\n",
       " '\\xa0-\\xa0Jan 12, 2022',\n",
       " '\\xa0-\\xa0Jan 12, 2022',\n",
       " '\\xa0-\\xa0Jan 12, 2022',\n",
       " '\\xa0-\\xa0Jan 12, 2022']"
      ]
     },
     "execution_count": 10,
     "metadata": {},
     "output_type": "execute_result"
    }
   ],
   "source": [
    "dates"
   ]
  },
  {
   "cell_type": "code",
   "execution_count": 68,
   "id": "6e901c0b-edbe-4138-af05-7d6508c4bb96",
   "metadata": {},
   "outputs": [
    {
     "data": {
      "text/plain": [
       "['1', '2', '3', '4']"
      ]
     },
     "execution_count": 68,
     "metadata": {},
     "output_type": "execute_result"
    }
   ],
   "source": [
    "pages"
   ]
  },
  {
   "cell_type": "code",
   "execution_count": null,
   "id": "37cbae8f-ff35-4833-89ad-56980843cc60",
   "metadata": {},
   "outputs": [],
   "source": []
  }
 ],
 "metadata": {
  "kernelspec": {
   "display_name": "Python 3 (ipykernel)",
   "language": "python",
   "name": "python3"
  },
  "language_info": {
   "codemirror_mode": {
    "name": "ipython",
    "version": 3
   },
   "file_extension": ".py",
   "mimetype": "text/x-python",
   "name": "python",
   "nbconvert_exporter": "python",
   "pygments_lexer": "ipython3",
   "version": "3.7.3"
  }
 },
 "nbformat": 4,
 "nbformat_minor": 5
}
