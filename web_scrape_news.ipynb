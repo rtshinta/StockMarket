{
 "cells": [
  {
   "cell_type": "code",
   "execution_count": 5,
   "id": "17c710d5-a266-4bf5-a84b-5ef3a5627907",
   "metadata": {},
   "outputs": [],
   "source": [
    "import numpy as np\n",
    "import pandas as pd\n",
    "from requests import get\n",
    "from bs4 import BeautifulSoup\n",
    "from time import *\n",
    "from random import randint\n",
    "from IPython.core.display import clear_output\n",
    "from pandas.io.html import read_html\n",
    "from urllib.request import Request, urlopen\n",
    "import urllib.response"
   ]
  },
  {
   "cell_type": "code",
   "execution_count": 2,
   "id": "42f492bb-ec86-4627-81c0-45a14be4698b",
   "metadata": {},
   "outputs": [],
   "source": [
    "# zacks.com\n",
    "url = 'https://www.investing.com/search/?q=ibm&tab=news'\n",
    "response = Request(url, headers={\"User-Agent\": \"Mozilla/5.0\"})\n",
    "response = urlopen(response).read()\n",
    "soup = BeautifulSoup(response, \"html.parser\")\n"
   ]
  },
  {
   "cell_type": "code",
   "execution_count": 3,
   "id": "269cfd75-37ee-406a-ad68-869f39f4ca24",
   "metadata": {},
   "outputs": [
    {
     "name": "stdout",
     "output_type": "stream",
     "text": [
      "8\n"
     ]
    }
   ],
   "source": [
    "article_containers = soup.findAll('div', class_ = 'articleItem')\n",
    "print(len(article_containers))"
   ]
  },
  {
   "cell_type": "code",
   "execution_count": 4,
   "id": "c0f7a5ec-edfe-4783-aa62-c2a43c4cf12f",
   "metadata": {},
   "outputs": [
    {
     "name": "stdout",
     "output_type": "stream",
     "text": [
      "IBM unveils Project Debater\n",
      "IBM holds shareholder meeting\n",
      "IBM strategy centering around data\n",
      "IBM Breakout\n",
      "IBM Earnings\n",
      "IBM Shares Looking Bearish\n",
      "{{title}}\n",
      "{{title}}\n"
     ]
    }
   ],
   "source": [
    "for article in article_containers:\n",
    "    print(article.div.a.text)"
   ]
  },
  {
   "cell_type": "code",
   "execution_count": 5,
   "id": "2fd65287-ca9d-4e5f-8196-0382ea050fc6",
   "metadata": {},
   "outputs": [],
   "source": [
    "url500 = 'https://www.investing.com/indices/us-spx-500-news/1'\n",
    "response = Request(url500, headers={\"User-Agent\": \"Mozilla/5.0\"})\n",
    "response = urlopen(response).read()\n",
    "soup = BeautifulSoup(response, \"html.parser\")"
   ]
  },
  {
   "cell_type": "code",
   "execution_count": 6,
   "id": "2c0982a2-ac64-4fde-a026-9d3fd28c64be",
   "metadata": {},
   "outputs": [
    {
     "name": "stdout",
     "output_type": "stream",
     "text": [
      "2\n"
     ]
    }
   ],
   "source": [
    "article_containers = soup.findAll('div', class_ = 'mediumTitle1')\n",
    "print(len(article_containers))\n"
   ]
  },
  {
   "cell_type": "code",
   "execution_count": 7,
   "id": "a5d251cf-6c3f-4bc6-99a5-48761823b71c",
   "metadata": {},
   "outputs": [
    {
     "name": "stdout",
     "output_type": "stream",
     "text": [
      "Wall St sinks as yields spike, financials fall after Goldman miss\n",
      " - 14 minutes ago\n",
      "S&P 500 Closes Lower as Banks, Tech Lead Sea of Red on Wall Street\n",
      " - 20 minutes ago\n",
      "S&P 500 on Back Foot as Goldman Leads Rout in Financials\n",
      " - 37 minutes ago\n",
      "Jump in Treasury yields sink equity markets, notably tech\n",
      " - 45 minutes ago\n",
      "Inverse ETFs Dominate as Stocks Struggle Again on Tuesday\n",
      " - 32 minutes ago\n",
      "RSP Right Idea for 2022 Diversification\n",
      " - 4 hours ago\n",
      "Deep Dive: This is the window of time when value can outperform growth in the stock market\n",
      " - 5 hours ago\n",
      "S&P 500 Takes Beating on Tuesday\n",
      " - 5 hours ago\n",
      "Brett Arends's ROI: Beware this ‘dangerous blessing’ for 401(k)s\n",
      " - 6 hours ago\n",
      "Wall Street Opens Lower on Earnings Misses, Inflation Fear; Dow Down 500 Pts\n",
      " - 6 hours ago\n"
     ]
    }
   ],
   "source": [
    "\n",
    "for i in range(1, len(article_containers)):\n",
    "    #print(article_containers[i].article.div.a.text)\n",
    "    article = article_containers[i].findAll('div', class_ = 'textDiv')\n",
    "    for a in article:\n",
    "        print(a.a.text)\n",
    "        date = a.find('span', class_ = 'date')\n",
    "        print(date.text)\n",
    "    #print(article)\n",
    "    #print(article.article.div.a.text)\n",
    "    print \n",
    "    #print(article.div.div)\n",
    "    #date = article.find('span', class_ = 'date')    \n",
    "    #print(date.text)"
   ]
  },
  {
   "cell_type": "code",
   "execution_count": null,
   "id": "4cd13239-2577-4773-99fe-c3063c15422b",
   "metadata": {},
   "outputs": [],
   "source": [
    "article_titles = []\n",
    "dates = []\n",
    "requests = 0\n",
    "start_time = time()\n",
    "pages = [str(i) for i in range(1, 1700, 5)]\n",
    "for p in pages:\n",
    "    url = 'https://www.investing.com/indices/us-spx-500-news/' + p\n",
    "    print(p)\n",
    "    response = Request(url, headers={\"User-Agent\": \"Mozilla/5.0\"})\n",
    "    status = urlopen(response).status\n",
    "    response = urlopen(response).read()\n",
    "    sleep(randint(8, 15))\n",
    "    requests += 1\n",
    "    elapsed_time = time() - start_time\n",
    "    print('Request:{}; Frequency: {} requests/s'.format(requests, requests/elapsed_time))\n",
    "    #clear_output(wait = True)\n",
    "    if status != 200:\n",
    "        warn('Request: {}; Status code: {}'.format(requests, response.status_code))\n",
    "    soup = BeautifulSoup(response, \"html.parser\")\n",
    "    article_containers = soup.findAll('div', class_ = 'mediumTitle1')\n",
    "    for i in range(1, len(article_containers)):\n",
    "        article = article_containers[i].findAll('div', class_ = 'textDiv')\n",
    "        for a in article:\n",
    "            #print(a.a.text)\n",
    "            article_titles.append(a.a.text)\n",
    "            date = a.find('span', class_ = 'date')\n",
    "            dates.append(date.text)\n",
    "            #print(date.text)\n",
    "\n",
    "    \n",
    "    \n"
   ]
  },
  {
   "cell_type": "code",
   "execution_count": null,
   "id": "c84325b5-0d82-435c-9448-53604ff91e25",
   "metadata": {},
   "outputs": [],
   "source": [
    "article_titles"
   ]
  },
  {
   "cell_type": "code",
   "execution_count": null,
   "id": "8f7524c2-5d1e-4520-a8b0-9ff8d61f3fff",
   "metadata": {},
   "outputs": [],
   "source": [
    "dates"
   ]
  },
  {
   "cell_type": "code",
   "execution_count": null,
   "id": "6e901c0b-edbe-4138-af05-7d6508c4bb96",
   "metadata": {},
   "outputs": [],
   "source": [
    "for i in range(1, 1700, 5):\n",
    "    print(i)"
   ]
  },
  {
   "cell_type": "code",
   "execution_count": 22,
   "id": "37cbae8f-ff35-4833-89ad-56980843cc60",
   "metadata": {},
   "outputs": [
    {
     "data": {
      "text/html": [
       "<div>\n",
       "<style scoped>\n",
       "    .dataframe tbody tr th:only-of-type {\n",
       "        vertical-align: middle;\n",
       "    }\n",
       "\n",
       "    .dataframe tbody tr th {\n",
       "        vertical-align: top;\n",
       "    }\n",
       "\n",
       "    .dataframe thead th {\n",
       "        text-align: right;\n",
       "    }\n",
       "</style>\n",
       "<table border=\"1\" class=\"dataframe\">\n",
       "  <thead>\n",
       "    <tr style=\"text-align: right;\">\n",
       "      <th></th>\n",
       "      <th>Article Titles</th>\n",
       "      <th>Date</th>\n",
       "    </tr>\n",
       "  </thead>\n",
       "  <tbody>\n",
       "    <tr>\n",
       "      <th>0</th>\n",
       "      <td>U.S. stocks lower at close of trade; Dow Jones...</td>\n",
       "      <td>- 27 minutes ago</td>\n",
       "    </tr>\n",
       "    <tr>\n",
       "      <th>1</th>\n",
       "      <td>Stocks sink, notably tech, as Treasury yields ...</td>\n",
       "      <td>- 1 hour ago</td>\n",
       "    </tr>\n",
       "    <tr>\n",
       "      <th>2</th>\n",
       "      <td>S&amp;P 500 Closes Lower as Banks, Tech Lead Sea o...</td>\n",
       "      <td>- 1 hour ago</td>\n",
       "    </tr>\n",
       "    <tr>\n",
       "      <th>3</th>\n",
       "      <td>S&amp;P 500 on Back Foot as Goldman Leads Rout in ...</td>\n",
       "      <td>- 2 hours ago</td>\n",
       "    </tr>\n",
       "    <tr>\n",
       "      <th>4</th>\n",
       "      <td>Inverse ETFs Dominate as Stocks Struggle Again...</td>\n",
       "      <td>- 2 hours ago</td>\n",
       "    </tr>\n",
       "    <tr>\n",
       "      <th>...</th>\n",
       "      <td>...</td>\n",
       "      <td>...</td>\n",
       "    </tr>\n",
       "    <tr>\n",
       "      <th>3391</th>\n",
       "      <td>US STOCKS-Utilities advance market as leadersh...</td>\n",
       "      <td>- May 10, 2011</td>\n",
       "    </tr>\n",
       "    <tr>\n",
       "      <th>3392</th>\n",
       "      <td>US STOCKS-Utilities lift Wall Street as leader...</td>\n",
       "      <td>- May 10, 2011</td>\n",
       "    </tr>\n",
       "    <tr>\n",
       "      <th>3393</th>\n",
       "      <td>US STOCKS-Wall St rises on China data, sector ...</td>\n",
       "      <td>- May 10, 2011</td>\n",
       "    </tr>\n",
       "    <tr>\n",
       "      <th>3394</th>\n",
       "      <td>US STOCKS-Wall St set to rise after strong Chi...</td>\n",
       "      <td>- May 10, 2011</td>\n",
       "    </tr>\n",
       "    <tr>\n",
       "      <th>3395</th>\n",
       "      <td>US STOCKS-Futures gain after strong Chinese data</td>\n",
       "      <td>- May 10, 2011</td>\n",
       "    </tr>\n",
       "  </tbody>\n",
       "</table>\n",
       "<p>3396 rows × 2 columns</p>\n",
       "</div>"
      ],
      "text/plain": [
       "                                         Article Titles               Date\n",
       "0     U.S. stocks lower at close of trade; Dow Jones...   - 27 minutes ago\n",
       "1     Stocks sink, notably tech, as Treasury yields ...       - 1 hour ago\n",
       "2     S&P 500 Closes Lower as Banks, Tech Lead Sea o...       - 1 hour ago\n",
       "3     S&P 500 on Back Foot as Goldman Leads Rout in ...      - 2 hours ago\n",
       "4     Inverse ETFs Dominate as Stocks Struggle Again...      - 2 hours ago\n",
       "...                                                 ...                ...\n",
       "3391  US STOCKS-Utilities advance market as leadersh...     - May 10, 2011\n",
       "3392  US STOCKS-Utilities lift Wall Street as leader...     - May 10, 2011\n",
       "3393  US STOCKS-Wall St rises on China data, sector ...     - May 10, 2011\n",
       "3394  US STOCKS-Wall St set to rise after strong Chi...     - May 10, 2011\n",
       "3395   US STOCKS-Futures gain after strong Chinese data     - May 10, 2011\n",
       "\n",
       "[3396 rows x 2 columns]"
      ]
     },
     "execution_count": 22,
     "metadata": {},
     "output_type": "execute_result"
    }
   ],
   "source": [
    "df = pd.DataFrame([article_titles, dates]).T\n",
    "df.columns = ['Article Titles', 'Date']\n",
    "df"
   ]
  },
  {
   "cell_type": "code",
   "execution_count": 23,
   "id": "6a04ada9-475d-43cd-bed4-bb81473c3eae",
   "metadata": {},
   "outputs": [],
   "source": [
    "df.to_csv(\"sp500news.csv\")"
   ]
  },
  {
   "cell_type": "code",
   "execution_count": 25,
   "id": "27180cf5-ecd6-4b7e-b331-c07ec4e0df1d",
   "metadata": {},
   "outputs": [
    {
     "data": {
      "text/plain": [
       "'U.S. stocks lower at close of trade; Dow Jones Industrial Average down 1.51%'"
      ]
     },
     "execution_count": 25,
     "metadata": {},
     "output_type": "execute_result"
    }
   ],
   "source": [
    "df.iloc[0]['Article Titles']"
   ]
  },
  {
   "cell_type": "code",
   "execution_count": 8,
   "id": "1f58436e-a149-4429-ac03-e5324837b268",
   "metadata": {},
   "outputs": [],
   "source": [
    "# collect company news url's\n",
    "url = 'https://www.investing.com/search/?q=aapl'\n",
    "response = Request(url, headers={\"User-Agent\": \"Mozilla/5.0\"})\n",
    "response = urlopen(response).read()\n",
    "soup = BeautifulSoup(response, \"html.parser\")"
   ]
  },
  {
   "cell_type": "code",
   "execution_count": 17,
   "id": "b4a21dd5-d3fa-4ca5-ba8d-3d448dcdd565",
   "metadata": {},
   "outputs": [
    {
     "data": {
      "text/plain": [
       "'https://www.investing.com/equities/apple-computer-inc'"
      ]
     },
     "execution_count": 17,
     "metadata": {},
     "output_type": "execute_result"
    }
   ],
   "source": [
    "'https://www.investing.com' + soup.find('a', class_ = 'js-inner-all-results-quote-item row')['href']"
   ]
  },
  {
   "cell_type": "code",
   "execution_count": 6,
   "id": "833d3833-a556-41b7-b1bc-1aed7d09572b",
   "metadata": {},
   "outputs": [
    {
     "data": {
      "text/plain": [
       "0       MMM\n",
       "1       AOS\n",
       "2       ABT\n",
       "3      ABBV\n",
       "4      ABMD\n",
       "       ... \n",
       "500     YUM\n",
       "501    ZBRA\n",
       "502     ZBH\n",
       "503    ZION\n",
       "504     ZTS\n",
       "Name: Symbol, Length: 505, dtype: object"
      ]
     },
     "execution_count": 6,
     "metadata": {},
     "output_type": "execute_result"
    }
   ],
   "source": [
    "symbols = pd.read_csv('sp500.csv')['Symbol']\n",
    "symbols"
   ]
  },
  {
   "cell_type": "code",
   "execution_count": null,
   "id": "558caaae-ef50-42fd-b86f-ac984d2d9d8e",
   "metadata": {},
   "outputs": [],
   "source": [
    "url_list = []\n",
    "requests = 0\n",
    "start_time = time()\n",
    "file = open(\"sp500news_urls.txt\", \"w\")\n",
    "for i in range(len(symbols)):\n",
    "    #url = 'https://www.investing.com/search/?q=' + symbols.iloc[i]\n",
    "    if symbols.iloc[i] == \"BRK.B\":\n",
    "        url = 'https://www.investing.com/search/?q=BRK-B'\n",
    "    elif symbols.iloc[i] == \"BF.B\":\n",
    "        url = 'https://www.investing.com/search/?q=BF-B'\n",
    "    else:\n",
    "        url = 'https://www.investing.com/search/?q=' + symbols.iloc[i]\n",
    "    print(symbols.iloc[i])\n",
    "    response = Request(url, headers={\"User-Agent\": \"Mozilla/5.0\"})\n",
    "    status = urlopen(response).status\n",
    "    response = urlopen(response).read()\n",
    "    sleep(randint(8, 15))\n",
    "    requests += 1\n",
    "    elapsed_time = time() - start_time\n",
    "    print('Request:{}; Frequency: {} requests/s'.format(requests, requests/elapsed_time))\n",
    "    if status != 200:\n",
    "        warn('Request: {}; Status code: {}'.format(requests, response.status_code))\n",
    "    soup = BeautifulSoup(response, \"html.parser\")\n",
    "    url_container = 'https://www.investing.com' + soup.find('a', class_ = 'js-inner-all-results-quote-item row')['href'] + '-news'\n",
    "    file.write(url_container + \"\\n\")\n",
    "    print(url_container)\n",
    "    url_list.append(url_container)"
   ]
  },
  {
   "cell_type": "code",
   "execution_count": null,
   "id": "ba80f4cc-9d00-4611-bd2c-2ea22d0ff04e",
   "metadata": {},
   "outputs": [],
   "source": [
    "file = open(\"sp500news_urls.txt\", \"r\")\n",
    "while file.readline():\n",
    "    print(file.readline()[:-1])"
   ]
  },
  {
   "cell_type": "code",
   "execution_count": 15,
   "id": "05cb35b8-d8ab-4a5c-9e24-adf67a2e9f5c",
   "metadata": {},
   "outputs": [],
   "source": [
    "url = 'https://www.investing.com/equities/apple-computer-inc-news'\n",
    "response = Request(url, headers={\"User-Agent\": \"Mozilla/5.0\"})\n",
    "response = urlopen(response).read()\n",
    "soup = BeautifulSoup(response, \"html.parser\")"
   ]
  },
  {
   "cell_type": "code",
   "execution_count": 16,
   "id": "971a74fd-0d44-4434-a430-6662effb7634",
   "metadata": {},
   "outputs": [
    {
     "name": "stdout",
     "output_type": "stream",
     "text": [
      "2\n"
     ]
    }
   ],
   "source": [
    "article_containers = soup.findAll('div', class_ = 'mediumTitle1')\n",
    "print(len(article_containers))"
   ]
  },
  {
   "cell_type": "code",
   "execution_count": 22,
   "id": "8aeb3188-208a-4983-b3d6-9725eaca2352",
   "metadata": {},
   "outputs": [
    {
     "name": "stdout",
     "output_type": "stream",
     "text": [
      "Peloton's collapse spins up Apple, Nike, Amazon acquisition chatter\n",
      " - 14 hours ago\n",
      "S&P 500, Nasdaq post worst weeks since pandemic start as Netflix woes deepen slide\n",
      " - Jan 21, 2022\n",
      "False\n",
      "Catalyst watch for next week: Earnings blitz headlined by Apple, Microsoft, Boeing and Tesla\n",
      " - Jan 21, 2022\n",
      "False\n",
      "Apple: Healthy Demand Merits a Price Target Hike, According to this Analyst\n",
      " - Jan 21, 2022\n",
      "False\n",
      "Apple, Microsoft are 'Rock of Gibraltar names' that will save tech - Wedbush analyst Dan Ives\n",
      " - Jan 21, 2022\n",
      "False\n",
      "Single stock options worth $1.2 trillion set to expire - Options Solutions\n",
      " - Jan 21, 2022\n",
      "False\n",
      "iPhone maker Foxconn seals EV partnership with Indonesia\n",
      " - Jan 21, 2022\n",
      "False\n",
      "Snap plays up augmented reality in Latin America, Asia expansion\n",
      " - Jan 21, 2022\n",
      "False\n",
      "Apple on Track to Beat Earnings Estimates Again; Target Price $210 in Best Case\n",
      " - Jan 21, 2022\n",
      "False\n",
      "Take Five: All about inflation\n",
      " - Jan 21, 2022\n",
      "False\n"
     ]
    },
    {
     "data": {
      "text/plain": [
       "False"
      ]
     },
     "execution_count": 22,
     "metadata": {},
     "output_type": "execute_result"
    }
   ],
   "source": [
    "for i in range(1, len(article_containers)):\n",
    "    #print(article_containers[i].article.div.a.text)\n",
    "    article = article_containers[i].findAll('div', class_ = 'textDiv')\n",
    "    year = None\n",
    "    for a in article:\n",
    "        print(a.a.text)\n",
    "        date = a.find('span', class_ = 'date')\n",
    "        print(date.text)\n",
    "        if date.text[len(date.text) - 4:] != ' ago':\n",
    "            print(int(date.text[-4:]) < 2020)\n",
    "next_page = soup.find('div', class_ = 'sideDiv inlineblock text_align_lang_base_2')\n",
    "next_page.a == None"
   ]
  },
  {
   "cell_type": "code",
   "execution_count": null,
   "id": "ccd52b7e-7444-4ed3-ab89-5608c2decc0a",
   "metadata": {},
   "outputs": [],
   "source": [
    "article_titles = []\n",
    "dates = []\n",
    "companies = []\n",
    "requests = 0\n",
    "start_time = time()\n",
    "pages = [str(i) for i in range(1, 1700)]\n",
    "file = open(\"sp500news_urls.txt\", \"r\")\n",
    "lines = file.readlines()\n",
    "for i in range(len(lines)):\n",
    "    for p in pages:\n",
    "        companies.append(symbols.iloc[i])\n",
    "        url = lines[i][:-1] + '/' + p\n",
    "        response = Request(url, headers={\"User-Agent\": \"Mozilla/5.0\"})\n",
    "        status = urlopen(response).status\n",
    "        response = urlopen(response).read()\n",
    "        sleep(randint(8, 15))\n",
    "        requests += 1\n",
    "        elapsed_time = time() - start_time\n",
    "        print('Request:{}; Frequency: {} requests/s'.format(requests, requests/elapsed_time))\n",
    "        #clear_output(wait = True)\n",
    "        if status != 200:\n",
    "            warn('Request: {}; Status code: {}'.format(requests, response.status_code))\n",
    "        soup = BeautifulSoup(response, \"html.parser\")\n",
    "        article_containers = soup.findAll('div', class_ = 'mediumTitle1')\n",
    "        year = 2022\n",
    "        for i in range(1, len(article_containers)):\n",
    "            article = article_containers[i].findAll('div', class_ = 'textDiv')\n",
    "            for a in article:\n",
    "                #print(a.a.text)\n",
    "                if date.text[:-4]\n",
    "                article_titles.append(a.a.text)\n",
    "                date = a.find('span', class_ = 'date')\n",
    "                dates.append(date.text)\n",
    "                if date.text[len(date.text) - 4:] != ' ago':\n",
    "                    year = int(date.text[len(date.text) - 4:])\n",
    "                #print(date.text)\n",
    "        next_page = soup.find('div', class_ = 'sideDiv inlineblock text_align_lang_base_2')\n",
    "        if next_page.a == None or year < 2015:\n",
    "            break\n",
    "file.close()"
   ]
  },
  {
   "cell_type": "code",
   "execution_count": 2,
   "id": "ab6919c0-215e-4a7e-87ef-a0030e84780f",
   "metadata": {},
   "outputs": [
    {
     "name": "stdout",
     "output_type": "stream",
     "text": [
      "5\n",
      "6\n",
      "7\n",
      "5\n",
      "6\n",
      "7\n",
      "5\n",
      "6\n",
      "7\n",
      "5\n",
      "6\n",
      "7\n",
      "5\n",
      "6\n",
      "7\n"
     ]
    }
   ],
   "source": [
    "for i in range(5):\n",
    "    for j in range(5, 10):\n",
    "        if j == 8:\n",
    "            break\n",
    "        print(j)"
   ]
  },
  {
   "cell_type": "code",
   "execution_count": null,
   "id": "0d24f336-6e0b-4b3c-b33b-2fb4bdc107fd",
   "metadata": {},
   "outputs": [],
   "source": []
  }
 ],
 "metadata": {
  "kernelspec": {
   "display_name": "Python 3 (ipykernel)",
   "language": "python",
   "name": "python3"
  },
  "language_info": {
   "codemirror_mode": {
    "name": "ipython",
    "version": 3
   },
   "file_extension": ".py",
   "mimetype": "text/x-python",
   "name": "python",
   "nbconvert_exporter": "python",
   "pygments_lexer": "ipython3",
   "version": "3.8.3"
  }
 },
 "nbformat": 4,
 "nbformat_minor": 5
}
