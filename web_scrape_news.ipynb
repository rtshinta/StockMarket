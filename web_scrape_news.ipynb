{
 "cells": [
  {
   "cell_type": "markdown",
   "id": "a8565434-c0d4-4da7-a996-e421cc446364",
   "metadata": {},
   "source": [
    "# Web scrape News Article Titles"
   ]
  },
  {
   "cell_type": "code",
   "execution_count": 1,
   "id": "17c710d5-a266-4bf5-a84b-5ef3a5627907",
   "metadata": {},
   "outputs": [],
   "source": [
    "import numpy as np\n",
    "import pandas as pd\n",
    "from requests import get\n",
    "from bs4 import BeautifulSoup\n",
    "from time import *\n",
    "from random import randint\n",
    "from IPython.core.display import clear_output\n",
    "from pandas.io.html import read_html\n",
    "from urllib.request import Request, urlopen\n",
    "import urllib.response"
   ]
  },
  {
   "cell_type": "code",
   "execution_count": 2,
   "id": "42f492bb-ec86-4627-81c0-45a14be4698b",
   "metadata": {},
   "outputs": [],
   "source": [
    "\n",
    "url = 'https://www.investing.com/search/?q=ibm&tab=news'\n",
    "response = Request(url, headers={\"User-Agent\": \"Mozilla/5.0\"})\n",
    "response = urlopen(response).read()\n",
    "soup = BeautifulSoup(response, \"html.parser\")\n"
   ]
  },
  {
   "cell_type": "code",
   "execution_count": 3,
   "id": "269cfd75-37ee-406a-ad68-869f39f4ca24",
   "metadata": {},
   "outputs": [
    {
     "name": "stdout",
     "output_type": "stream",
     "text": [
      "8\n"
     ]
    }
   ],
   "source": [
    "article_containers = soup.findAll('div', class_ = 'articleItem')\n",
    "print(len(article_containers))"
   ]
  },
  {
   "cell_type": "code",
   "execution_count": 4,
   "id": "c0f7a5ec-edfe-4783-aa62-c2a43c4cf12f",
   "metadata": {},
   "outputs": [
    {
     "name": "stdout",
     "output_type": "stream",
     "text": [
      "Tech workers urge companies to join Ukraine's digital blockade of Russia\n",
      "U.S. stocks mixed at close of trade; Dow Jones Industrial Average up 0.44%\n",
      "Ripple Loses its Director of Developer Relations, What You Should Know\n",
      "IBM Breakout\n",
      "IBM Earnings\n",
      "IBM Shares Looking Bearish\n",
      "{{title}}\n",
      "{{title}}\n"
     ]
    }
   ],
   "source": [
    "for article in article_containers:\n",
    "    print(article.div.a.text)"
   ]
  },
  {
   "cell_type": "code",
   "execution_count": 5,
   "id": "2fd65287-ca9d-4e5f-8196-0382ea050fc6",
   "metadata": {},
   "outputs": [],
   "source": [
    "url500 = 'https://www.investing.com/indices/us-spx-500-news/1'\n",
    "response = Request(url500, headers={\"User-Agent\": \"Mozilla/5.0\"})\n",
    "response = urlopen(response).read()\n",
    "soup = BeautifulSoup(response, \"html.parser\")"
   ]
  },
  {
   "cell_type": "code",
   "execution_count": 6,
   "id": "2c0982a2-ac64-4fde-a026-9d3fd28c64be",
   "metadata": {},
   "outputs": [
    {
     "name": "stdout",
     "output_type": "stream",
     "text": [
      "2\n"
     ]
    }
   ],
   "source": [
    "article_containers = soup.findAll('div', class_ = 'mediumTitle1')\n",
    "print(len(article_containers))\n"
   ]
  },
  {
   "cell_type": "code",
   "execution_count": 7,
   "id": "a5d251cf-6c3f-4bc6-99a5-48761823b71c",
   "metadata": {},
   "outputs": [
    {
     "name": "stdout",
     "output_type": "stream",
     "text": [
      "Wall Street retreats as hopes for Russia-Ukraine progress fade\n",
      " - 15 minutes ago\n",
      "S&P 500 Pauses Run Higher as Falling Chip Stocks Dent Tech\n",
      " - 15 minutes ago\n",
      "Stocks rally fizzles, bond markets ponder risks for U.S. economy\n",
      " - 41 minutes ago\n",
      "Column-Q1 investment verdict? 'Not good, but not horrible': McGeever\n",
      " - 46 minutes ago\n",
      "U.S. Stocks Fall as Private Payroll and GDP Data in Focus\n",
      " - 1 hour ago\n",
      "Buying by Quant, Short, Pension Funds Dims Stock Market’s Economic Signal\n",
      " - 3 hours ago\n",
      "S&P 500 nears yesterday's low\n",
      " - 22 minutes ago\n",
      "Wall Street Opens Mostly Lower as Peace Hopes Damped; Dow Flat\n",
      " - 5 hours ago\n",
      "Morgan Stanley Strategists See Threat to U.S. Profits From Wages\n",
      " - 8 hours ago\n",
      "'Mystifying' U.S. stock rally defies economic unease\n",
      " - 9 hours ago\n"
     ]
    }
   ],
   "source": [
    "\n",
    "for i in range(1, len(article_containers)):\n",
    "    #print(article_containers[i].article.div.a.text)\n",
    "    article = article_containers[i].findAll('div', class_ = 'textDiv')\n",
    "    for a in article:\n",
    "        print(a.a.text)\n",
    "        date = a.find('span', class_ = 'date')\n",
    "        print(date.text)\n",
    "    #print(article)\n",
    "    #print(article.article.div.a.text)\n",
    "    print \n",
    "    #print(article.div.div)\n",
    "    #date = article.find('span', class_ = 'date')    \n",
    "    #print(date.text)"
   ]
  },
  {
   "cell_type": "code",
   "execution_count": null,
   "id": "4cd13239-2577-4773-99fe-c3063c15422b",
   "metadata": {},
   "outputs": [],
   "source": [
    "article_titles = []\n",
    "dates = []\n",
    "requests = 0\n",
    "start_time = time()\n",
    "pages = [str(i) for i in range(1, 1700, 5)]\n",
    "for p in pages:\n",
    "    url = 'https://www.investing.com/indices/us-spx-500-news/' + p\n",
    "    print(p)\n",
    "    response = Request(url, headers={\"User-Agent\": \"Mozilla/5.0\"})\n",
    "    status = urlopen(response).status\n",
    "    response = urlopen(response).read()\n",
    "    sleep(randint(8, 15))\n",
    "    requests += 1\n",
    "    elapsed_time = time() - start_time\n",
    "    print('Request:{}; Frequency: {} requests/s'.format(requests, requests/elapsed_time))\n",
    "    #clear_output(wait = True)\n",
    "    if status != 200:\n",
    "        warn('Request: {}; Status code: {}'.format(requests, response.status_code))\n",
    "    soup = BeautifulSoup(response, \"html.parser\")\n",
    "    article_containers = soup.findAll('div', class_ = 'mediumTitle1')\n",
    "    for i in range(1, len(article_containers)):\n",
    "        article = article_containers[i].findAll('div', class_ = 'textDiv')\n",
    "        for a in article:\n",
    "            #print(a.a.text)\n",
    "            article_titles.append(a.a.text)\n",
    "            date = a.find('span', class_ = 'date')\n",
    "            dates.append(date.text)\n",
    "            #print(date.text)\n",
    "\n",
    "    \n",
    "    \n"
   ]
  },
  {
   "cell_type": "code",
   "execution_count": null,
   "id": "c84325b5-0d82-435c-9448-53604ff91e25",
   "metadata": {},
   "outputs": [],
   "source": [
    "article_titles"
   ]
  },
  {
   "cell_type": "code",
   "execution_count": null,
   "id": "8f7524c2-5d1e-4520-a8b0-9ff8d61f3fff",
   "metadata": {},
   "outputs": [],
   "source": [
    "dates"
   ]
  },
  {
   "cell_type": "code",
   "execution_count": null,
   "id": "6e901c0b-edbe-4138-af05-7d6508c4bb96",
   "metadata": {},
   "outputs": [],
   "source": [
    "for i in range(1, 1700, 5):\n",
    "    print(i)"
   ]
  },
  {
   "cell_type": "code",
   "execution_count": 22,
   "id": "37cbae8f-ff35-4833-89ad-56980843cc60",
   "metadata": {},
   "outputs": [
    {
     "data": {
      "text/html": [
       "<div>\n",
       "<style scoped>\n",
       "    .dataframe tbody tr th:only-of-type {\n",
       "        vertical-align: middle;\n",
       "    }\n",
       "\n",
       "    .dataframe tbody tr th {\n",
       "        vertical-align: top;\n",
       "    }\n",
       "\n",
       "    .dataframe thead th {\n",
       "        text-align: right;\n",
       "    }\n",
       "</style>\n",
       "<table border=\"1\" class=\"dataframe\">\n",
       "  <thead>\n",
       "    <tr style=\"text-align: right;\">\n",
       "      <th></th>\n",
       "      <th>Article Titles</th>\n",
       "      <th>Date</th>\n",
       "    </tr>\n",
       "  </thead>\n",
       "  <tbody>\n",
       "    <tr>\n",
       "      <th>0</th>\n",
       "      <td>U.S. stocks lower at close of trade; Dow Jones...</td>\n",
       "      <td>- 27 minutes ago</td>\n",
       "    </tr>\n",
       "    <tr>\n",
       "      <th>1</th>\n",
       "      <td>Stocks sink, notably tech, as Treasury yields ...</td>\n",
       "      <td>- 1 hour ago</td>\n",
       "    </tr>\n",
       "    <tr>\n",
       "      <th>2</th>\n",
       "      <td>S&amp;P 500 Closes Lower as Banks, Tech Lead Sea o...</td>\n",
       "      <td>- 1 hour ago</td>\n",
       "    </tr>\n",
       "    <tr>\n",
       "      <th>3</th>\n",
       "      <td>S&amp;P 500 on Back Foot as Goldman Leads Rout in ...</td>\n",
       "      <td>- 2 hours ago</td>\n",
       "    </tr>\n",
       "    <tr>\n",
       "      <th>4</th>\n",
       "      <td>Inverse ETFs Dominate as Stocks Struggle Again...</td>\n",
       "      <td>- 2 hours ago</td>\n",
       "    </tr>\n",
       "    <tr>\n",
       "      <th>...</th>\n",
       "      <td>...</td>\n",
       "      <td>...</td>\n",
       "    </tr>\n",
       "    <tr>\n",
       "      <th>3391</th>\n",
       "      <td>US STOCKS-Utilities advance market as leadersh...</td>\n",
       "      <td>- May 10, 2011</td>\n",
       "    </tr>\n",
       "    <tr>\n",
       "      <th>3392</th>\n",
       "      <td>US STOCKS-Utilities lift Wall Street as leader...</td>\n",
       "      <td>- May 10, 2011</td>\n",
       "    </tr>\n",
       "    <tr>\n",
       "      <th>3393</th>\n",
       "      <td>US STOCKS-Wall St rises on China data, sector ...</td>\n",
       "      <td>- May 10, 2011</td>\n",
       "    </tr>\n",
       "    <tr>\n",
       "      <th>3394</th>\n",
       "      <td>US STOCKS-Wall St set to rise after strong Chi...</td>\n",
       "      <td>- May 10, 2011</td>\n",
       "    </tr>\n",
       "    <tr>\n",
       "      <th>3395</th>\n",
       "      <td>US STOCKS-Futures gain after strong Chinese data</td>\n",
       "      <td>- May 10, 2011</td>\n",
       "    </tr>\n",
       "  </tbody>\n",
       "</table>\n",
       "<p>3396 rows × 2 columns</p>\n",
       "</div>"
      ],
      "text/plain": [
       "                                         Article Titles               Date\n",
       "0     U.S. stocks lower at close of trade; Dow Jones...   - 27 minutes ago\n",
       "1     Stocks sink, notably tech, as Treasury yields ...       - 1 hour ago\n",
       "2     S&P 500 Closes Lower as Banks, Tech Lead Sea o...       - 1 hour ago\n",
       "3     S&P 500 on Back Foot as Goldman Leads Rout in ...      - 2 hours ago\n",
       "4     Inverse ETFs Dominate as Stocks Struggle Again...      - 2 hours ago\n",
       "...                                                 ...                ...\n",
       "3391  US STOCKS-Utilities advance market as leadersh...     - May 10, 2011\n",
       "3392  US STOCKS-Utilities lift Wall Street as leader...     - May 10, 2011\n",
       "3393  US STOCKS-Wall St rises on China data, sector ...     - May 10, 2011\n",
       "3394  US STOCKS-Wall St set to rise after strong Chi...     - May 10, 2011\n",
       "3395   US STOCKS-Futures gain after strong Chinese data     - May 10, 2011\n",
       "\n",
       "[3396 rows x 2 columns]"
      ]
     },
     "execution_count": 22,
     "metadata": {},
     "output_type": "execute_result"
    }
   ],
   "source": [
    "df = pd.DataFrame([article_titles, dates]).T\n",
    "df.columns = ['Article Titles', 'Date']\n",
    "df"
   ]
  },
  {
   "cell_type": "code",
   "execution_count": 23,
   "id": "6a04ada9-475d-43cd-bed4-bb81473c3eae",
   "metadata": {},
   "outputs": [],
   "source": [
    "df.to_csv(\"sp500news.csv\")"
   ]
  },
  {
   "cell_type": "code",
   "execution_count": 25,
   "id": "27180cf5-ecd6-4b7e-b331-c07ec4e0df1d",
   "metadata": {},
   "outputs": [
    {
     "data": {
      "text/plain": [
       "'U.S. stocks lower at close of trade; Dow Jones Industrial Average down 1.51%'"
      ]
     },
     "execution_count": 25,
     "metadata": {},
     "output_type": "execute_result"
    }
   ],
   "source": [
    "df.iloc[0]['Article Titles']"
   ]
  },
  {
   "cell_type": "code",
   "execution_count": 8,
   "id": "1f58436e-a149-4429-ac03-e5324837b268",
   "metadata": {},
   "outputs": [],
   "source": [
    "# collect company news url's\n",
    "url = 'https://www.investing.com/search/?q=aapl'\n",
    "response = Request(url, headers={\"User-Agent\": \"Mozilla/5.0\"})\n",
    "response = urlopen(response).read()\n",
    "soup = BeautifulSoup(response, \"html.parser\")"
   ]
  },
  {
   "cell_type": "code",
   "execution_count": 17,
   "id": "b4a21dd5-d3fa-4ca5-ba8d-3d448dcdd565",
   "metadata": {},
   "outputs": [
    {
     "data": {
      "text/plain": [
       "'https://www.investing.com/equities/apple-computer-inc'"
      ]
     },
     "execution_count": 17,
     "metadata": {},
     "output_type": "execute_result"
    }
   ],
   "source": [
    "'https://www.investing.com' + soup.find('a', class_ = 'js-inner-all-results-quote-item row')['href']"
   ]
  },
  {
   "cell_type": "code",
   "execution_count": 9,
   "id": "833d3833-a556-41b7-b1bc-1aed7d09572b",
   "metadata": {},
   "outputs": [
    {
     "data": {
      "text/plain": [
       "0       MMM\n",
       "1       AOS\n",
       "2       ABT\n",
       "3      ABBV\n",
       "4      ABMD\n",
       "       ... \n",
       "500     YUM\n",
       "501    ZBRA\n",
       "502     ZBH\n",
       "503    ZION\n",
       "504     ZTS\n",
       "Name: Symbol, Length: 505, dtype: object"
      ]
     },
     "execution_count": 9,
     "metadata": {},
     "output_type": "execute_result"
    }
   ],
   "source": [
    "symbols = pd.read_csv('sp500.csv')['Symbol']\n",
    "symbols"
   ]
  },
  {
   "cell_type": "code",
   "execution_count": null,
   "id": "558caaae-ef50-42fd-b86f-ac984d2d9d8e",
   "metadata": {},
   "outputs": [],
   "source": [
    "url_list = []\n",
    "requests = 0\n",
    "start_time = time()\n",
    "file = open(\"sp500news_urls.txt\", \"w\")\n",
    "for i in range(len(symbols)):\n",
    "    #url = 'https://www.investing.com/search/?q=' + symbols.iloc[i]\n",
    "    if symbols.iloc[i] == \"BRK.B\":\n",
    "        url = 'https://www.investing.com/search/?q=BRK-B'\n",
    "    elif symbols.iloc[i] == \"BF.B\":\n",
    "        url = 'https://www.investing.com/search/?q=BF-B'\n",
    "    else:\n",
    "        url = 'https://www.investing.com/search/?q=' + symbols.iloc[i]\n",
    "    print(symbols.iloc[i])\n",
    "    response = Request(url, headers={\"User-Agent\": \"Mozilla/5.0\"})\n",
    "    status = urlopen(response).status\n",
    "    response = urlopen(response).read()\n",
    "    sleep(randint(8, 15))\n",
    "    requests += 1\n",
    "    elapsed_time = time() - start_time\n",
    "    print('Request:{}; Frequency: {} requests/s'.format(requests, requests/elapsed_time))\n",
    "    if status != 200:\n",
    "        warn('Request: {}; Status code: {}'.format(requests, response.status_code))\n",
    "    soup = BeautifulSoup(response, \"html.parser\")\n",
    "    url_container = 'https://www.investing.com' + soup.find('a', class_ = 'js-inner-all-results-quote-item row')['href'] + '-news'\n",
    "    file.write(url_container + \"\\n\")\n",
    "    print(url_container)\n",
    "    url_list.append(url_container)"
   ]
  },
  {
   "cell_type": "code",
   "execution_count": null,
   "id": "ba80f4cc-9d00-4611-bd2c-2ea22d0ff04e",
   "metadata": {},
   "outputs": [],
   "source": [
    "file = open(\"sp500news_urls.txt\", \"r\")\n",
    "while file.readline():\n",
    "    print(file.readline()[:-1])"
   ]
  },
  {
   "cell_type": "code",
   "execution_count": 15,
   "id": "05cb35b8-d8ab-4a5c-9e24-adf67a2e9f5c",
   "metadata": {},
   "outputs": [],
   "source": [
    "url = 'https://www.investing.com/equities/apple-computer-inc-news'\n",
    "response = Request(url, headers={\"User-Agent\": \"Mozilla/5.0\"})\n",
    "response = urlopen(response).read()\n",
    "soup = BeautifulSoup(response, \"html.parser\")"
   ]
  },
  {
   "cell_type": "code",
   "execution_count": 16,
   "id": "971a74fd-0d44-4434-a430-6662effb7634",
   "metadata": {},
   "outputs": [
    {
     "name": "stdout",
     "output_type": "stream",
     "text": [
      "2\n"
     ]
    }
   ],
   "source": [
    "article_containers = soup.findAll('div', class_ = 'mediumTitle1')\n",
    "print(len(article_containers))"
   ]
  },
  {
   "cell_type": "code",
   "execution_count": 22,
   "id": "8aeb3188-208a-4983-b3d6-9725eaca2352",
   "metadata": {},
   "outputs": [
    {
     "name": "stdout",
     "output_type": "stream",
     "text": [
      "Peloton's collapse spins up Apple, Nike, Amazon acquisition chatter\n",
      " - 14 hours ago\n",
      "S&P 500, Nasdaq post worst weeks since pandemic start as Netflix woes deepen slide\n",
      " - Jan 21, 2022\n",
      "False\n",
      "Catalyst watch for next week: Earnings blitz headlined by Apple, Microsoft, Boeing and Tesla\n",
      " - Jan 21, 2022\n",
      "False\n",
      "Apple: Healthy Demand Merits a Price Target Hike, According to this Analyst\n",
      " - Jan 21, 2022\n",
      "False\n",
      "Apple, Microsoft are 'Rock of Gibraltar names' that will save tech - Wedbush analyst Dan Ives\n",
      " - Jan 21, 2022\n",
      "False\n",
      "Single stock options worth $1.2 trillion set to expire - Options Solutions\n",
      " - Jan 21, 2022\n",
      "False\n",
      "iPhone maker Foxconn seals EV partnership with Indonesia\n",
      " - Jan 21, 2022\n",
      "False\n",
      "Snap plays up augmented reality in Latin America, Asia expansion\n",
      " - Jan 21, 2022\n",
      "False\n",
      "Apple on Track to Beat Earnings Estimates Again; Target Price $210 in Best Case\n",
      " - Jan 21, 2022\n",
      "False\n",
      "Take Five: All about inflation\n",
      " - Jan 21, 2022\n",
      "False\n"
     ]
    },
    {
     "data": {
      "text/plain": [
       "False"
      ]
     },
     "execution_count": 22,
     "metadata": {},
     "output_type": "execute_result"
    }
   ],
   "source": [
    "for i in range(1, len(article_containers)):\n",
    "    #print(article_containers[i].article.div.a.text)\n",
    "    article = article_containers[i].findAll('div', class_ = 'textDiv')\n",
    "    year = None\n",
    "    for a in article:\n",
    "        print(a.a.text)\n",
    "        date = a.find('span', class_ = 'date')\n",
    "        print(date.text)\n",
    "        if date.text[len(date.text) - 4:] != ' ago':\n",
    "            print(int(date.text[-4:]) < 2020)\n",
    "next_page = soup.find('div', class_ = 'sideDiv inlineblock text_align_lang_base_2')\n",
    "next_page.a == None"
   ]
  },
  {
   "cell_type": "code",
   "execution_count": 15,
   "id": "ccd52b7e-7444-4ed3-ab89-5608c2decc0a",
   "metadata": {},
   "outputs": [
    {
     "name": "stdout",
     "output_type": "stream",
     "text": [
      "2022\n",
      "2022\n",
      "2021\n",
      "2021\n",
      "2021\n",
      "2021\n",
      "2021\n",
      "2021\n",
      "2021\n",
      "2021\n",
      "----------------------Finished-------------------------\n"
     ]
    }
   ],
   "source": [
    "article_titles = []\n",
    "dates = []\n",
    "companies = []\n",
    "requests = 0\n",
    "start_time = time()\n",
    "pages = [str(i) for i in range(1, 1500, 2)]\n",
    "file = open(\"sp500news_urls.txt\", \"r\")\n",
    "fwrite = open(\"company_news.txt\", \"a\")\n",
    "lines = file.readlines()\n",
    "for x in range(len(lines)):\n",
    "    old_year = 2022\n",
    "    d = {}\n",
    "    for p in pages:\n",
    "        #if x == 22 and int(p) < 751:\n",
    "        #    continue\n",
    "        if ((int(p) - 1) % 5) == 0 or ((int(p) - 1) % 3 == 0):\n",
    "            continue\n",
    "        print(x, p)\n",
    "        companies.append(symbols.iloc[x])\n",
    "        url = lines[x][:len(lines[x]) - 1] + '/' + p\n",
    "        print(url)\n",
    "        try:\n",
    "            response = Request(url, headers={\"User-Agent\": \"Mozilla/5.0\"}) \n",
    "            status = urlopen(response).status\n",
    "            response = urlopen(response).read()\n",
    "        except:\n",
    "            continue\n",
    "        sleep(randint(5, 12))\n",
    "        requests += 1\n",
    "        elapsed_time = time() - start_time\n",
    "        print('Request:{}; Frequency: {} requests/s'.format(requests, requests/elapsed_time))\n",
    "        clear_output(wait = True)\n",
    "        if status != 200:\n",
    "            warn('Request: {}; Status code: {}'.format(requests, response.status_code))\n",
    "        soup = BeautifulSoup(response, \"html.parser\")\n",
    "        article_containers = soup.findAll('div', class_ = 'mediumTitle1')\n",
    "        #year = 2022\n",
    "        if x == 0 and p == '1':\n",
    "            print(\"TEST\")\n",
    "            fwrite = open(\"company_news.txt\", \"a\")\n",
    "        else:\n",
    "            fwrite = open(\"company_news.txt\", \"a\")\n",
    "        new_year = 2022\n",
    "        flag = False\n",
    "        for i in range(1, len(article_containers)):\n",
    "            article = article_containers[i].findAll('div', class_ = 'textDiv')\n",
    "            for a in article:\n",
    "                article_titles.append(a.a.text)\n",
    "                date = a.find('span', class_ = 'date')\n",
    "                dates.append(date.text)\n",
    "                if date.text[len(date.text) - 4:] != ' ago' and date.text[len(date.text) - 4:] != ' Now':\n",
    "                    new_year = int(date.text[len(date.text) - 4:])\n",
    "                    print(new_year)\n",
    "                    if new_year < 2015:\n",
    "                        break\n",
    "                #print(date.text)\n",
    "                if a.a.text in d:\n",
    "                    flag = True\n",
    "                    break\n",
    "                fwrite.write(symbols.iloc[x] + \", \" + a.a.text + \", \" + date.text + \"\\n\")\n",
    "                if int(p) == 1:\n",
    "                    d[a.a.text] = date.text\n",
    "            if flag == True:\n",
    "                break\n",
    "            if new_year < 2015:\n",
    "                break\n",
    "        fwrite.close()\n",
    "        if flag == True:\n",
    "            break\n",
    "        next_page = soup.find('div', class_ = 'sideDiv inlineblock text_align_lang_base_2')\n",
    "        #print(next_page.a, year)\n",
    "        if next_page == None or next_page.a == None or new_year < 2015 or new_year > old_year:\n",
    "            print(\"----------------------Finished-------------------------\")\n",
    "            break\n",
    "        old_year = new_year\n",
    "        \n",
    "fwrite.close()\n",
    "file.close()"
   ]
  },
  {
   "cell_type": "code",
   "execution_count": 6,
   "id": "d1178562-22e6-433e-b5a0-c1f83873b5c4",
   "metadata": {},
   "outputs": [
    {
     "data": {
      "text/plain": [
       "15170"
      ]
     },
     "execution_count": 6,
     "metadata": {},
     "output_type": "execute_result"
    }
   ],
   "source": [
    "len(dates)"
   ]
  },
  {
   "cell_type": "code",
   "execution_count": 33,
   "id": "2d078adc-1fdf-4039-a027-5556a94a0db6",
   "metadata": {},
   "outputs": [
    {
     "data": {
      "text/plain": [
       "550"
      ]
     },
     "execution_count": 33,
     "metadata": {},
     "output_type": "execute_result"
    }
   ],
   "source": [
    "for i in range(550, len(dates)):\n",
    "    companies.append()"
   ]
  },
  {
   "cell_type": "code",
   "execution_count": 7,
   "id": "afacee55-13a9-4ced-bd9f-463722660abf",
   "metadata": {},
   "outputs": [
    {
     "data": {
      "text/html": [
       "<div>\n",
       "<style scoped>\n",
       "    .dataframe tbody tr th:only-of-type {\n",
       "        vertical-align: middle;\n",
       "    }\n",
       "\n",
       "    .dataframe tbody tr th {\n",
       "        vertical-align: top;\n",
       "    }\n",
       "\n",
       "    .dataframe thead th {\n",
       "        text-align: right;\n",
       "    }\n",
       "</style>\n",
       "<table border=\"1\" class=\"dataframe\">\n",
       "  <thead>\n",
       "    <tr style=\"text-align: right;\">\n",
       "      <th></th>\n",
       "      <th>0</th>\n",
       "      <th>1</th>\n",
       "      <th>2</th>\n",
       "    </tr>\n",
       "  </thead>\n",
       "  <tbody>\n",
       "    <tr>\n",
       "      <th>0</th>\n",
       "      <td>: Align Technology stock price target cut to $...</td>\n",
       "      <td>- Jan 21, 2022</td>\n",
       "      <td>ALGN</td>\n",
       "    </tr>\n",
       "    <tr>\n",
       "      <th>1</th>\n",
       "      <td>Align Technology ticks lower on new short repo...</td>\n",
       "      <td>- Jan 06, 2022</td>\n",
       "      <td>ALGN</td>\n",
       "    </tr>\n",
       "    <tr>\n",
       "      <th>2</th>\n",
       "      <td>Baird bullish on dental stocks for 2022 with A...</td>\n",
       "      <td>- Jan 03, 2022</td>\n",
       "      <td>ALGN</td>\n",
       "    </tr>\n",
       "    <tr>\n",
       "      <th>3</th>\n",
       "      <td>4 Top Large-Cap Growth Stocks to Buy Before 2022</td>\n",
       "      <td>- Dec 13, 2021</td>\n",
       "      <td>ALGN</td>\n",
       "    </tr>\n",
       "    <tr>\n",
       "      <th>4</th>\n",
       "      <td>Wells Fargo Stick to Their Buy Rating for Atla...</td>\n",
       "      <td>- Dec 09, 2021</td>\n",
       "      <td>ALGN</td>\n",
       "    </tr>\n",
       "    <tr>\n",
       "      <th>...</th>\n",
       "      <td>...</td>\n",
       "      <td>...</td>\n",
       "      <td>...</td>\n",
       "    </tr>\n",
       "    <tr>\n",
       "      <th>15165</th>\n",
       "      <td>Short Interest in Align Technology, Inc. (NASD...</td>\n",
       "      <td>- Dec 04, 2021</td>\n",
       "      <td>None</td>\n",
       "    </tr>\n",
       "    <tr>\n",
       "      <th>15166</th>\n",
       "      <td>Lululemon fires back at Peloton lawsuit with i...</td>\n",
       "      <td>- Nov 30, 2021</td>\n",
       "      <td>None</td>\n",
       "    </tr>\n",
       "    <tr>\n",
       "      <th>15167</th>\n",
       "      <td>Robert W. Baird Stick to Their Buy Rating for ...</td>\n",
       "      <td>- Nov 02, 2021</td>\n",
       "      <td>None</td>\n",
       "    </tr>\n",
       "    <tr>\n",
       "      <th>15168</th>\n",
       "      <td>Align Earnings, Revenue Beat in Q3</td>\n",
       "      <td>- Oct 27, 2021</td>\n",
       "      <td>None</td>\n",
       "    </tr>\n",
       "    <tr>\n",
       "      <th>15169</th>\n",
       "      <td>Wells Fargo Stick to Their Buy Rating for Atla...</td>\n",
       "      <td>- Oct 21, 2021</td>\n",
       "      <td>None</td>\n",
       "    </tr>\n",
       "  </tbody>\n",
       "</table>\n",
       "<p>15170 rows × 3 columns</p>\n",
       "</div>"
      ],
      "text/plain": [
       "                                                       0                1  \\\n",
       "0      : Align Technology stock price target cut to $...   - Jan 21, 2022   \n",
       "1      Align Technology ticks lower on new short repo...   - Jan 06, 2022   \n",
       "2      Baird bullish on dental stocks for 2022 with A...   - Jan 03, 2022   \n",
       "3       4 Top Large-Cap Growth Stocks to Buy Before 2022   - Dec 13, 2021   \n",
       "4      Wells Fargo Stick to Their Buy Rating for Atla...   - Dec 09, 2021   \n",
       "...                                                  ...              ...   \n",
       "15165  Short Interest in Align Technology, Inc. (NASD...   - Dec 04, 2021   \n",
       "15166  Lululemon fires back at Peloton lawsuit with i...   - Nov 30, 2021   \n",
       "15167  Robert W. Baird Stick to Their Buy Rating for ...   - Nov 02, 2021   \n",
       "15168                 Align Earnings, Revenue Beat in Q3   - Oct 27, 2021   \n",
       "15169  Wells Fargo Stick to Their Buy Rating for Atla...   - Oct 21, 2021   \n",
       "\n",
       "          2  \n",
       "0      ALGN  \n",
       "1      ALGN  \n",
       "2      ALGN  \n",
       "3      ALGN  \n",
       "4      ALGN  \n",
       "...     ...  \n",
       "15165  None  \n",
       "15166  None  \n",
       "15167  None  \n",
       "15168  None  \n",
       "15169  None  \n",
       "\n",
       "[15170 rows x 3 columns]"
      ]
     },
     "execution_count": 7,
     "metadata": {},
     "output_type": "execute_result"
    }
   ],
   "source": [
    "df = pd.DataFrame([article_titles, dates, companies]).T\n",
    "df"
   ]
  },
  {
   "cell_type": "code",
   "execution_count": 8,
   "id": "6d918e82-c604-465e-ae97-4001165de30e",
   "metadata": {},
   "outputs": [
    {
     "data": {
      "text/plain": [
       "array(['ALGN', None], dtype=object)"
      ]
     },
     "execution_count": 8,
     "metadata": {},
     "output_type": "execute_result"
    }
   ],
   "source": [
    "df[2].unique()"
   ]
  },
  {
   "cell_type": "code",
   "execution_count": 61,
   "id": "da74d6d9-5373-4562-8ea1-61fcb70c9b97",
   "metadata": {},
   "outputs": [
    {
     "data": {
      "text/plain": [
       "550"
      ]
     },
     "execution_count": 61,
     "metadata": {},
     "output_type": "execute_result"
    }
   ],
   "source": [
    "len(companies)"
   ]
  },
  {
   "cell_type": "code",
   "execution_count": 59,
   "id": "2ec07e99-be09-4d82-a444-486cf01ea937",
   "metadata": {},
   "outputs": [
    {
     "data": {
      "text/plain": [
       "44    AAPL\n",
       "Name: Symbol, dtype: object"
      ]
     },
     "execution_count": 59,
     "metadata": {},
     "output_type": "execute_result"
    }
   ],
   "source": [
    "symbols[symbols == 'AAPL']"
   ]
  },
  {
   "cell_type": "code",
   "execution_count": 9,
   "id": "2293deb7-50e2-43ef-bf1e-c10953c445c5",
   "metadata": {},
   "outputs": [],
   "source": [
    "fwrite.close()"
   ]
  },
  {
   "cell_type": "code",
   "execution_count": 56,
   "id": "434379c9-b02c-488e-939b-30bb7c34e8c8",
   "metadata": {},
   "outputs": [],
   "source": [
    "useless_string1 = \"Add a CommentWe encourage you to use comments to engage with other users share your perspective and ask questions of authors and each other. However in order to maintain the high level of discourse we’ve all come to value and expect please keep the following criteria in mind:             Enrich the conversation don’t trash it.          Stay focused and on track. Only post material that’s relevant to the topic being discussed.           Be respectful. Even negative opinions can be framed positively and diplomatically. Avoid profanity slander or personal attacks directed at an author or another user. Racism sexism and other forms of discrimination will not be tolerated.Perpetrators of spam or abuse will be deleted from the site and prohibited from future registration at Investing.com’s discretion.Are you sure you want to block %USER_NAME%?By doing so you and %USER_NAME% will not be able to see\"\n",
    "useless_string2 = \"any of each other's Investing.com's posts.%USER_NAME% was successfully added to your Block ListSince you’ve just unblocked this person you must wait 48 hours before renewing the block.I feel that this comment is:Thank You!\""
   ]
  },
  {
   "cell_type": "code",
   "execution_count": 68,
   "id": "2e985020-a7de-479c-82e0-1c91de6988ec",
   "metadata": {},
   "outputs": [
    {
     "name": "stdout",
     "output_type": "stream",
     "text": [
      "TEST\n",
      "2022\n",
      " - Feb 25, 2022\n",
      "2022\n",
      " - Feb 17, 2022\n",
      "2022\n",
      " - Feb 16, 2022\n",
      "2022\n",
      " - Feb 15, 2022\n",
      "2022\n",
      " - Feb 15, 2022\n",
      "2022\n",
      " - Feb 15, 2022\n",
      "2022\n",
      " - Feb 04, 2022\n",
      "2022\n",
      " - Jan 28, 2022\n",
      "2022\n",
      " - Jan 26, 2022\n",
      "2022\n",
      " - Jan 25, 2022\n"
     ]
    }
   ],
   "source": [
    "article_titles = []\n",
    "dates = []\n",
    "companies = []\n",
    "requests = 0\n",
    "start_time = time()\n",
    "pages = [str(i) for i in range(1,1500)]\n",
    "file = open(\"sp500news_urls.txt\", \"r\")\n",
    "fwrite = open(\"full_article.txt\", \"a\")\n",
    "lines = file.readlines()\n",
    "for x in range(len(lines)):\n",
    "    old_year = 2022\n",
    "    d = {}\n",
    "    for p in pages:\n",
    "        #if x == 22 and int(p) < 751:\n",
    "        #    continue\n",
    "        #if ((int(p) - 1) % 5) == 0 or ((int(p) - 1) % 3 == 0):\n",
    "        #    continue\n",
    "        print(x, p)\n",
    "        companies.append(symbols.iloc[x])\n",
    "        url = lines[x][:len(lines[x]) - 1] + '/' + p\n",
    "        print(url)\n",
    "        try:\n",
    "            response = Request(url, headers={\"User-Agent\": \"Mozilla/5.0\"}) \n",
    "            status = urlopen(response).status\n",
    "            response = urlopen(response).read()\n",
    "        except:\n",
    "            continue\n",
    "        sleep(randint(2, 7))\n",
    "        requests += 1\n",
    "        elapsed_time = time() - start_time\n",
    "        print('Request:{}; Frequency: {} requests/s'.format(requests, requests/elapsed_time))\n",
    "        clear_output(wait = True)\n",
    "        if status != 200:\n",
    "            warn('Request: {}; Status code: {}'.format(requests, response.status_code))\n",
    "        soup = BeautifulSoup(response, \"html.parser\")\n",
    "        article_containers = soup.findAll('div', class_ = 'mediumTitle1')\n",
    "        #year = 2022\n",
    "        if x == 0 and p == '1':\n",
    "            print(\"TEST\")\n",
    "            fwrite = open(\"full_article.txt\", \"a\")\n",
    "        else:\n",
    "            fwrite = open(\"full_article.txt\", \"a\")\n",
    "        new_year = 2022\n",
    "        flag = False\n",
    "        for i in range(1, len(article_containers)):\n",
    "            article = article_containers[i].findAll('div', class_ = 'textDiv')\n",
    "            for a in article:\n",
    "                article_titles.append(a.a.text)\n",
    "                date = a.find('span', class_ = 'date')\n",
    "                dates.append(date.text)\n",
    "                if date.text[len(date.text) - 4:] != ' ago' and date.text[len(date.text) - 4:] != ' Now':\n",
    "                    new_year = int(date.text[len(date.text) - 4:])\n",
    "                    print(new_year)\n",
    "                    if new_year < 2015:\n",
    "                        break\n",
    "                #print(date.text)\n",
    "                if a.a.text in d:\n",
    "                    flag = True\n",
    "                    break\n",
    "                #print(a.a['href'])\n",
    "                new_url = a.a['href']\n",
    "                flag10 = False\n",
    "                if new_url[0] == '/':\n",
    "                    sleep(randint(5, 12))\n",
    "                    new_url = 'https://www.investing.com' + new_url\n",
    "                    flag10 = True\n",
    "                try:\n",
    "                    response2 = Request(new_url, headers={\"User-Agent\": \"Mozilla/5.0\"}) \n",
    "                    status2 = urlopen(response2).status\n",
    "                    response2 = urlopen(response2).read()\n",
    "                except:\n",
    "                    continue\n",
    "                soup2 = BeautifulSoup(response2, \"html.parser\")\n",
    "                all_words = soup2.findAll('p')\n",
    "                paragraph = \"\"\n",
    "                \n",
    "                for i in range(1, len(all_words) - 1):\n",
    "                    paragraph += all_words[i].text\n",
    "                #print(paragraph)\n",
    "                paragraph = paragraph.replace(\",\", \"\")\n",
    "                paragraph = paragraph.replace(useless_string1, \"\")\n",
    "                paragraph = paragraph.replace(useless_string2, \"\")\n",
    "                paragraph = paragraph.replace(\"\\n\",\"\")\n",
    "                if flag10 == True:\n",
    "                    paragraph = paragraph[:len(paragraph) - 1]\n",
    "                print(date.text)\n",
    "                fwrite.write(symbols.iloc[x] + \", \" + paragraph + \", \" + date.text + \"\\n\")\n",
    "                if int(p) == 1:\n",
    "                    d[a.a.text] = date.text\n",
    "            if flag == True:\n",
    "                break\n",
    "            if new_year < 2015:\n",
    "                break\n",
    "        fwrite.close()\n",
    "        if flag == True:\n",
    "            break\n",
    "        next_page = soup.find('div', class_ = 'sideDiv inlineblock text_align_lang_base_2')\n",
    "        #print(next_page.a, year)\n",
    "        if next_page == None or next_page.a == None or new_year < 2015 or new_year > old_year:\n",
    "            print(\"----------------------Finished-------------------------\")\n",
    "            break\n",
    "        old_year = new_year\n",
    "        \n",
    "fwrite.close()\n",
    "file.close()"
   ]
  },
  {
   "cell_type": "code",
   "execution_count": 22,
   "id": "e0c3be2f-45db-405d-8de1-dc3d78237642",
   "metadata": {},
   "outputs": [
    {
     "name": "stdout",
     "output_type": "stream",
     "text": [
      "Shares of industrial, safety, and consumer products provider 3M Company (MMM) have declined 11.1% so far this year. 3M’s recent fourth-quarter numbers came in ahead of expectations on both its top-line and bottom-line fronts.\n",
      "Despite supply chain challenges, revenue increased 0.3% year-over-year to $8.6 billion, beating estimates of $8.58 billion. While earnings per share dropped 4% year-over-year to $2.31, the figure was still better than expectations of $2.02.\n",
      "Additionally, on February 14, the company announced it anticipates total sales growth of 1% to 4% for 2022. Earnings per share are expected to land between $10.15 and $10.65. Further, 3M has made a $1 billion ESG commitment over 20 years, focusing on carbon neutrality, lowering water use, improving water quality, and decreasing plastic use.\n",
      "With these developments in mind, let us take a look at the changes in 3M’s key risk factors that investors should know.\n",
      "According to the TipRanks Risk Factors tool, 3M’s top three risk categories are Finance & Corporate, Legal & Regulatory, and Macro & Political, contributing 3 each to the total 14 risks identified for the stock. \n",
      "In its recent report, the company has changed one key risk factor under the Production risk category.\n",
      "3M highlighted that it depends on sourcing a number of components, compounds, raw materials, and energy from suppliers for manufacturing its products. Supply of products could be interrupted due to varying factors such as shortages, climate impacts, disasters, government actions, or other disruptive events. Such an event could lead to an adverse impact on 3M’s business.\n",
      "Meanwhile, compared to a sector average of 12 risk factors, 3M has 3 risk factors under Finance & Corporate category.\n",
      "According to TipRanks data, the Wall Street’s top hedge funds have decreased holdings in 3M by 967.1 thousand shares in the last quarter, indicating a negative hedge fund confidence signal in the stock based on activities of 7 hedge funds.\n",
      "Download the TipRanks mobile app now\n",
      "To find good ideas for stocks trading at attractive valuations, visit TipRanks’ Best Stocks to Buy, a newly launched tool that unites all of TipRanks’ equity insights.\n",
      "Read full Disclaimer & Disclosure\n",
      "Related News:Copper Mountain Mining Posts Lower Q4 ProductionMr. Cooper Group Gains 19% on Q4 Earnings Beat & New PartnershipTransdigm Group Updates 1 Key Risk Factor\n"
     ]
    }
   ],
   "source": [
    "# non investing.com sites\n",
    "response = Request(\"https://www.tipranks.com/news/3m-company-updates-1-key-risk-factor\", headers={\"User-Agent\": \"Mozilla/5.0\"}) \n",
    "status = urlopen(response).status\n",
    "response = urlopen(response).read()\n",
    "soup = BeautifulSoup(response, \"html.parser\")\n",
    "for words in soup.findAll('p'):\n",
    "    print(words.text)"
   ]
  },
  {
   "cell_type": "code",
   "execution_count": 26,
   "id": "b9eef0e7-51aa-4162-9c88-cb61d32d7e4b",
   "metadata": {},
   "outputs": [
    {
     "name": "stdout",
     "output_type": "stream",
     "text": [
      "Please try another search\n",
      "Investing.com – U.S. stocks were higher after the close on Friday, as gains in the Telecoms, Utilities and Oil & Gas sectors led shares higher.\n",
      "At the close in NYSE, the Dow Jones Industrial Average unchanged 0%, while the S&P 500 index gained 2.24%, and the NASDAQ Composite index unchanged 0%.\n",
      "The best performers of the session on the Dow Jones Industrial Average were Johnson & Johnson (NYSE:JNJ), which unchanged 0% or 0 points to trade at 163.36 at the close. Meanwhile, 3M Company (NYSE:MMM) unchanged 0% or 0 points to end at 147.62 and UnitedHealth Group Incorporated (NYSE:UNH) was unchanged 0% or 0 points to 467.81 in late trade.\n",
      "The worst performers of the session were Walt  Disney  Company (NYSE:DIS), which unchanged 0% or 0 points to trade at 151.36 at the close.  Visa Inc  Class A (NYSE:V) unchanged 0% or 0 points to end at 222.69 and Microsoft Corporation (NASDAQ:MSFT) was 0% or 0 points to 287.93.\n",
      "The top performers on the S&P 500 were  Etsy Inc  (NASDAQ:ETSY) which unchanged 0% to 127.30,  DISH Network  Corporation (NASDAQ:DISH) which was unchanged 0% to settle at 28.96 and Mosaic Co (NYSE:MOS) which unchanged 0% to close at 45.00.\n",
      "The worst performers were  Moderna  Inc (NASDAQ:MRNA) which was unchanged 0% to 145.74 in late trade, EOG Resources Inc (NYSE:EOG) which unchanged 0% to settle at 111.62 and  Intuit  Inc (NASDAQ:INTU) which was unchanged 0% to 481.20 at the close.\n",
      "The top performers on the NASDAQ Composite were Inspirato Inc (NASDAQ:ISPO) which unchanged 0% to 46.00,  Guardforce AI  Co Ltd (NASDAQ:GFAI) which was unchanged 0% to settle at 0.38 and  CarGurus  (NASDAQ:CARG) which unchanged 0% to close at 34.44.\n",
      "The worst performers were Baudax Bio Inc (NASDAQ:BXRX) which was unchanged 0% to 4.2300 in late trade,  Everbridge Inc  (NASDAQ:EVBG) which unchanged 0% to settle at 45.54 and  LivePerson  Inc (NASDAQ:LPSN) which was unchanged 0% to 24.59 at the close.\n",
      "Rising stocks outnumbered declining ones on the New York Stock Exchange by 2690 to 553 and 129 ended unchanged; on the Nasdaq Stock Exchange, 2770 rose and 1063 declined, while 210 ended unchanged.\n",
      "Shares in Mosaic Co (NYSE:MOS) unchanged to 5-year highs; unchanged 0% or 0 to 45.00. Shares in Baudax Bio Inc (NASDAQ:BXRX) unchanged to all time lows; unchanged 0% or 0 to 4.2300. Shares in Everbridge Inc (NASDAQ:EVBG) unchanged to 3-years lows; unchanged 0% or 0 to 45.54. Shares in CarGurus (NASDAQ:CARG) unchanged to 3-years highs; unchanged 0% or 0 to 34.44. Shares in LivePerson Inc (NASDAQ:LPSN) unchanged to 52-week lows; unchanged 0% or 0 to 24.59. \n",
      "The CBOE Volatility Index, which measures the implied volatility of S&P 500 options, was unchanged 0% to 27.75.\n",
      "Gold Futures for April delivery was up 0.63% or 12.05 to $1911.85 a troy ounce. Elsewhere in commodities trading, Crude oil for delivery in April rose 3.68% or 3.32 to hit $93.53 a barrel, while the May Brent oil contract rose 2.10% or 1.95 to trade at $94.94 a barrel.\n",
      "EUR/USD was unchanged 0% to 1.1312, while USD/JPY unchanged 0% to 114.74.\n",
      "The US Dollar Index Futures was up 0.10% at 96.112.\n",
      " By Katanga Johnson and Chris Prentice WASHINGTON (Reuters) -Wall Street's watchdog on Wednesday unveiled a draft new rule to enhance blank-check company investor disclosures and...\n",
      "Investing.com – U.S. stocks were lower after the close on Wednesday, as losses in the Consumer Services, Technology and Financials sectors led shares lower.\n",
      "At the close in NYSE,...\n",
      "By Yasin Ebrahim\n",
      "Investing.com – The S&P 500 snapped a four-day win streak Wednesday, as bets on tech eased following a stumble in chip stocks, while ongoing worries about...\n",
      "Add a Comment\n",
      "We encourage you to use comments to engage with other users, share your perspective and ask questions of authors and each other. However, in order to maintain the high level of discourse we’ve all come to value and expect, please keep the following criteria in mind:  \n",
      "           Enrich the conversation, don’t trash it.\n",
      "          Stay focused and on track. Only post material that’s relevant to the topic being discussed. \n",
      "          Be respectful. Even negative opinions can be framed positively and diplomatically. Avoid profanity, slander or personal attacks directed at an author or another user. Racism, sexism and other forms of discrimination will not be tolerated.\n",
      "Perpetrators of spam or abuse will be deleted from the site and prohibited from future registration at Investing.com’s discretion.\n",
      "Are you sure you want to block %USER_NAME%?\n",
      "By doing so, you and %USER_NAME% will not be able to see\n",
      "any of each other's Investing.com's posts.\n",
      "%USER_NAME% was successfully added to your Block List\n",
      "Since you’ve just unblocked this person, you must wait 48 hours before renewing the block.\n",
      "I feel that this comment is:\n"
     ]
    }
   ],
   "source": [
    "# non investing.com sites\n",
    "response = Request(\"https://www.investing.com/news/stock-market-news/us-stocks-higher-at-close-of-trade-dow-jones-industrial-average-unchanged-2772896\", headers={\"User-Agent\": \"Mozilla/5.0\"}) \n",
    "status = urlopen(response).status\n",
    "response = urlopen(response).read()\n",
    "soup = BeautifulSoup(response, \"html.parser\")\n",
    "all_words = soup.findAll('p')\n",
    "for i in range(len(all_words) - 2):\n",
    "    print(all_words[i].text)"
   ]
  },
  {
   "cell_type": "code",
   "execution_count": 59,
   "id": "67be82ac-09b3-4e84-8ada-752009650f88",
   "metadata": {},
   "outputs": [
    {
     "data": {
      "text/plain": [
       "'MMM, Investing.com – U.S. stocks were higher after the close on Friday as gains in the Telecoms Utilities and Oil & Gas sectors led shares higher.At the close in NYSE the Dow Jones Industrial Average unchanged 0% while the S&P 500 index gained 2.24% and the NASDAQ Composite index unchanged 0%.The best performers of the session on the Dow Jones Industrial Average were Johnson & Johnson (NYSE:JNJ) which unchanged 0% or 0 points to trade at 163.36 at the close. Meanwhile 3M Company (NYSE:MMM) unchanged 0% or 0 points to end at 147.62 and UnitedHealth Group Incorporated (NYSE:UNH) was unchanged 0% or 0 points to 467.81 in late trade.The worst performers of the session were Walt  Disney  Company (NYSE:DIS) which unchanged 0% or 0 points to trade at 151.36 at the close.  Visa Inc  Class A (NYSE:V) unchanged 0% or 0 points to end at 222.69 and Microsoft Corporation (NASDAQ:MSFT) was 0% or 0 points to 287.93.The top performers on the S&P 500 were  Etsy Inc  (NASDAQ:ETSY) which unchanged 0% to 127.30  DISH Network  Corporation (NASDAQ:DISH) which was unchanged 0% to settle at 28.96 and Mosaic Co (NYSE:MOS) which unchanged 0% to close at 45.00.The worst performers were  Moderna  Inc (NASDAQ:MRNA) which was unchanged 0% to 145.74 in late trade EOG Resources Inc (NYSE:EOG) which unchanged 0% to settle at 111.62 and  Intuit  Inc (NASDAQ:INTU) which was unchanged 0% to 481.20 at the close.The top performers on the NASDAQ Composite were Inspirato Inc (NASDAQ:ISPO) which unchanged 0% to 46.00  Guardforce AI  Co Ltd (NASDAQ:GFAI) which was unchanged 0% to settle at 0.38 and  CarGurus  (NASDAQ:CARG) which unchanged 0% to close at 34.44.The worst performers were Baudax Bio\\xa0Inc (NASDAQ:BXRX) which was unchanged 0% to 4.2300 in late trade  Everbridge Inc  (NASDAQ:EVBG) which unchanged 0% to settle at 45.54 and  LivePerson  Inc (NASDAQ:LPSN) which was unchanged 0% to 24.59 at the close.Rising stocks outnumbered declining ones on the New York Stock Exchange by 2690 to 553 and 129 ended unchanged; on the Nasdaq Stock Exchange 2770 rose and 1063 declined while 210 ended unchanged.Shares in Mosaic Co (NYSE:MOS) unchanged to 5-year highs; unchanged 0% or 0 to 45.00. Shares in Baudax Bio\\xa0Inc (NASDAQ:BXRX) unchanged to all time lows; unchanged 0% or 0 to 4.2300. Shares in Everbridge Inc (NASDAQ:EVBG) unchanged to 3-years lows; unchanged 0% or 0 to 45.54. Shares in CarGurus (NASDAQ:CARG) unchanged to 3-years highs; unchanged 0% or 0 to 34.44. Shares in LivePerson Inc (NASDAQ:LPSN) unchanged to 52-week lows; unchanged 0% or 0 to 24.59. The CBOE Volatility Index which measures the implied volatility of S&P 500 options was unchanged 0% to 27.75.Gold Futures for April delivery was up 0.63% or 12.05 to $1911.85 a troy ounce. Elsewhere in commodities trading Crude oil for delivery in April rose 3.68% or 3.32 to hit $93.53 a barrel while the May Brent oil contract rose 2.10% or 1.95 to trade at $94.94 a barrel.EUR/USD was unchanged 0% to 1.1312 while USD/JPY unchanged 0% to 114.74.The US Dollar Index Futures was up 0.10% at 96.112. By Nate Raymond BOSTON (Reuters) -A Massachusetts judge on Wednesday dealt state securities regulators a major setback in their enforcement action against online brokerage... By Jonathan Stempel NEW YORK (Reuters) - A U.S. judge on Wednesday said Grubhub Uber Eats and Postmates must face an antitrust lawsuit by diners who accused them of driving up... WASHINGTON (Reuters) -The U.S. Securities and Exchange Commission (SEC) on Wednesday flagged crypto-assets information security the private fund sector and environmental social...\\n'"
      ]
     },
     "execution_count": 59,
     "metadata": {},
     "output_type": "execute_result"
    }
   ],
   "source": [
    "f = open(\"full_article.txt\", \"r\")\n",
    "f.readlines()[0]"
   ]
  },
  {
   "cell_type": "code",
   "execution_count": 65,
   "id": "c2b5b8fb-777e-4e1e-8ae3-a905bbc51d53",
   "metadata": {},
   "outputs": [
    {
     "data": {
      "text/html": [
       "<div>\n",
       "<style scoped>\n",
       "    .dataframe tbody tr th:only-of-type {\n",
       "        vertical-align: middle;\n",
       "    }\n",
       "\n",
       "    .dataframe tbody tr th {\n",
       "        vertical-align: top;\n",
       "    }\n",
       "\n",
       "    .dataframe thead th {\n",
       "        text-align: right;\n",
       "    }\n",
       "</style>\n",
       "<table border=\"1\" class=\"dataframe\">\n",
       "  <thead>\n",
       "    <tr style=\"text-align: right;\">\n",
       "      <th></th>\n",
       "      <th>0</th>\n",
       "      <th>1</th>\n",
       "      <th>2</th>\n",
       "      <th>3</th>\n",
       "    </tr>\n",
       "  </thead>\n",
       "  <tbody>\n",
       "    <tr>\n",
       "      <th>0</th>\n",
       "      <td>MMM</td>\n",
       "      <td>Investing.com – U.S. stocks were higher after...</td>\n",
       "      <td>- Feb 25</td>\n",
       "      <td>2022</td>\n",
       "    </tr>\n",
       "    <tr>\n",
       "      <th>1</th>\n",
       "      <td>MMM</td>\n",
       "      <td>Investing.com – U.S. stocks were lower after ...</td>\n",
       "      <td>- Feb 17</td>\n",
       "      <td>2022</td>\n",
       "    </tr>\n",
       "    <tr>\n",
       "      <th>2</th>\n",
       "      <td>MMM</td>\n",
       "      <td>Investing.com – U.S. stocks were mixed after ...</td>\n",
       "      <td>- Feb 16</td>\n",
       "      <td>2022</td>\n",
       "    </tr>\n",
       "    <tr>\n",
       "      <th>3</th>\n",
       "      <td>MMM</td>\n",
       "      <td>Investing.com – U.S. stocks were higher after...</td>\n",
       "      <td>- Feb 15</td>\n",
       "      <td>2022</td>\n",
       "    </tr>\n",
       "    <tr>\n",
       "      <th>4</th>\n",
       "      <td>MMM</td>\n",
       "      <td>Despite supply chain challenges revenue incre...</td>\n",
       "      <td>- Feb 15</td>\n",
       "      <td>2022</td>\n",
       "    </tr>\n",
       "    <tr>\n",
       "      <th>5</th>\n",
       "      <td>MMM</td>\n",
       "      <td>The company projects sales to grow 1% to 4% w...</td>\n",
       "      <td>- Feb 15</td>\n",
       "      <td>2022</td>\n",
       "    </tr>\n",
       "    <tr>\n",
       "      <th>6</th>\n",
       "      <td>MMM</td>\n",
       "      <td>Investing.com – U.S. stocks were mixed after ...</td>\n",
       "      <td>- Feb 04</td>\n",
       "      <td>2022</td>\n",
       "    </tr>\n",
       "    <tr>\n",
       "      <th>7</th>\n",
       "      <td>MMM</td>\n",
       "      <td>Investing.com – U.S. stocks were higher after...</td>\n",
       "      <td>- Jan 28</td>\n",
       "      <td>2022</td>\n",
       "    </tr>\n",
       "    <tr>\n",
       "      <th>8</th>\n",
       "      <td>MMM</td>\n",
       "      <td>Investing.com – U.S. stocks were mixed after ...</td>\n",
       "      <td>- Jan 26</td>\n",
       "      <td>2022</td>\n",
       "    </tr>\n",
       "    <tr>\n",
       "      <th>9</th>\n",
       "      <td>MMM</td>\n",
       "      <td>By Dhirendra TripathiInvesting.com – 3M stock...</td>\n",
       "      <td>- Jan 25</td>\n",
       "      <td>2022</td>\n",
       "    </tr>\n",
       "  </tbody>\n",
       "</table>\n",
       "</div>"
      ],
      "text/plain": [
       "     0                                                  1           2     3\n",
       "0  MMM   Investing.com – U.S. stocks were higher after...    - Feb 25  2022\n",
       "1  MMM   Investing.com – U.S. stocks were lower after ...    - Feb 17  2022\n",
       "2  MMM   Investing.com – U.S. stocks were mixed after ...    - Feb 16  2022\n",
       "3  MMM   Investing.com – U.S. stocks were higher after...    - Feb 15  2022\n",
       "4  MMM   Despite supply chain challenges revenue incre...    - Feb 15  2022\n",
       "5  MMM   The company projects sales to grow 1% to 4% w...    - Feb 15  2022\n",
       "6  MMM   Investing.com – U.S. stocks were mixed after ...    - Feb 04  2022\n",
       "7  MMM   Investing.com – U.S. stocks were higher after...    - Jan 28  2022\n",
       "8  MMM   Investing.com – U.S. stocks were mixed after ...    - Jan 26  2022\n",
       "9  MMM   By Dhirendra TripathiInvesting.com – 3M stock...    - Jan 25  2022"
      ]
     },
     "execution_count": 65,
     "metadata": {},
     "output_type": "execute_result"
    }
   ],
   "source": [
    "pd.read_csv(\"full_article.txt\", header = None)"
   ]
  },
  {
   "cell_type": "code",
   "execution_count": null,
   "id": "617bef14-e9a5-4a28-b393-a1e9913c2852",
   "metadata": {},
   "outputs": [],
   "source": []
  }
 ],
 "metadata": {
  "kernelspec": {
   "display_name": "Python 3 (ipykernel)",
   "language": "python",
   "name": "python3"
  },
  "language_info": {
   "codemirror_mode": {
    "name": "ipython",
    "version": 3
   },
   "file_extension": ".py",
   "mimetype": "text/x-python",
   "name": "python",
   "nbconvert_exporter": "python",
   "pygments_lexer": "ipython3",
   "version": "3.8.3"
  }
 },
 "nbformat": 4,
 "nbformat_minor": 5
}
