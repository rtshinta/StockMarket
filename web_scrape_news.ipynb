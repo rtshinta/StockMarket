{
 "cells": [
  {
   "cell_type": "code",
   "execution_count": 2,
   "id": "17c710d5-a266-4bf5-a84b-5ef3a5627907",
   "metadata": {},
   "outputs": [],
   "source": [
    "import numpy as np\n",
    "import pandas as pd\n",
    "from requests import get\n",
    "from bs4 import BeautifulSoup\n",
    "from time import *\n",
    "from random import randint\n",
    "from IPython.core.display import clear_output\n",
    "from pandas.io.html import read_html\n",
    "from urllib.request import Request, urlopen\n",
    "import urllib.response"
   ]
  },
  {
   "cell_type": "code",
   "execution_count": 2,
   "id": "42f492bb-ec86-4627-81c0-45a14be4698b",
   "metadata": {},
   "outputs": [],
   "source": [
    "# zacks.com\n",
    "url = 'https://www.investing.com/search/?q=ibm&tab=news'\n",
    "response = Request(url, headers={\"User-Agent\": \"Mozilla/5.0\"})\n",
    "response = urlopen(response).read()\n",
    "soup = BeautifulSoup(response, \"html.parser\")\n"
   ]
  },
  {
   "cell_type": "code",
   "execution_count": 3,
   "id": "269cfd75-37ee-406a-ad68-869f39f4ca24",
   "metadata": {},
   "outputs": [
    {
     "name": "stdout",
     "output_type": "stream",
     "text": [
      "8\n"
     ]
    }
   ],
   "source": [
    "article_containers = soup.findAll('div', class_ = 'articleItem')\n",
    "print(len(article_containers))"
   ]
  },
  {
   "cell_type": "code",
   "execution_count": 4,
   "id": "c0f7a5ec-edfe-4783-aa62-c2a43c4cf12f",
   "metadata": {},
   "outputs": [
    {
     "name": "stdout",
     "output_type": "stream",
     "text": [
      "IBM unveils Project Debater\n",
      "IBM holds shareholder meeting\n",
      "IBM strategy centering around data\n",
      "IBM Breakout\n",
      "IBM Earnings\n",
      "IBM Shares Looking Bearish\n",
      "{{title}}\n",
      "{{title}}\n"
     ]
    }
   ],
   "source": [
    "for article in article_containers:\n",
    "    print(article.div.a.text)"
   ]
  },
  {
   "cell_type": "code",
   "execution_count": 5,
   "id": "2fd65287-ca9d-4e5f-8196-0382ea050fc6",
   "metadata": {},
   "outputs": [],
   "source": [
    "url500 = 'https://www.investing.com/indices/us-spx-500-news/1'\n",
    "response = Request(url500, headers={\"User-Agent\": \"Mozilla/5.0\"})\n",
    "response = urlopen(response).read()\n",
    "soup = BeautifulSoup(response, \"html.parser\")"
   ]
  },
  {
   "cell_type": "code",
   "execution_count": 6,
   "id": "2c0982a2-ac64-4fde-a026-9d3fd28c64be",
   "metadata": {},
   "outputs": [
    {
     "name": "stdout",
     "output_type": "stream",
     "text": [
      "2\n"
     ]
    }
   ],
   "source": [
    "article_containers = soup.findAll('div', class_ = 'mediumTitle1')\n",
    "print(len(article_containers))\n"
   ]
  },
  {
   "cell_type": "code",
   "execution_count": 7,
   "id": "a5d251cf-6c3f-4bc6-99a5-48761823b71c",
   "metadata": {},
   "outputs": [
    {
     "name": "stdout",
     "output_type": "stream",
     "text": [
      "Wall St sinks as yields spike, financials fall after Goldman miss\n",
      " - 14 minutes ago\n",
      "S&P 500 Closes Lower as Banks, Tech Lead Sea of Red on Wall Street\n",
      " - 20 minutes ago\n",
      "S&P 500 on Back Foot as Goldman Leads Rout in Financials\n",
      " - 37 minutes ago\n",
      "Jump in Treasury yields sink equity markets, notably tech\n",
      " - 45 minutes ago\n",
      "Inverse ETFs Dominate as Stocks Struggle Again on Tuesday\n",
      " - 32 minutes ago\n",
      "RSP Right Idea for 2022 Diversification\n",
      " - 4 hours ago\n",
      "Deep Dive: This is the window of time when value can outperform growth in the stock market\n",
      " - 5 hours ago\n",
      "S&P 500 Takes Beating on Tuesday\n",
      " - 5 hours ago\n",
      "Brett Arends's ROI: Beware this ‘dangerous blessing’ for 401(k)s\n",
      " - 6 hours ago\n",
      "Wall Street Opens Lower on Earnings Misses, Inflation Fear; Dow Down 500 Pts\n",
      " - 6 hours ago\n"
     ]
    }
   ],
   "source": [
    "\n",
    "for i in range(1, len(article_containers)):\n",
    "    #print(article_containers[i].article.div.a.text)\n",
    "    article = article_containers[i].findAll('div', class_ = 'textDiv')\n",
    "    for a in article:\n",
    "        print(a.a.text)\n",
    "        date = a.find('span', class_ = 'date')\n",
    "        print(date.text)\n",
    "    #print(article)\n",
    "    #print(article.article.div.a.text)\n",
    "    print \n",
    "    #print(article.div.div)\n",
    "    #date = article.find('span', class_ = 'date')    \n",
    "    #print(date.text)"
   ]
  },
  {
   "cell_type": "code",
   "execution_count": null,
   "id": "4cd13239-2577-4773-99fe-c3063c15422b",
   "metadata": {},
   "outputs": [],
   "source": [
    "article_titles = []\n",
    "dates = []\n",
    "requests = 0\n",
    "start_time = time()\n",
    "pages = [str(i) for i in range(1, 1700, 5)]\n",
    "for p in pages:\n",
    "    url = 'https://www.investing.com/indices/us-spx-500-news/' + p\n",
    "    print(p)\n",
    "    response = Request(url, headers={\"User-Agent\": \"Mozilla/5.0\"})\n",
    "    status = urlopen(response).status\n",
    "    response = urlopen(response).read()\n",
    "    sleep(randint(8, 15))\n",
    "    requests += 1\n",
    "    elapsed_time = time() - start_time\n",
    "    print('Request:{}; Frequency: {} requests/s'.format(requests, requests/elapsed_time))\n",
    "    #clear_output(wait = True)\n",
    "    if status != 200:\n",
    "        warn('Request: {}; Status code: {}'.format(requests, response.status_code))\n",
    "    soup = BeautifulSoup(response, \"html.parser\")\n",
    "    article_containers = soup.findAll('div', class_ = 'mediumTitle1')\n",
    "    for i in range(1, len(article_containers)):\n",
    "        article = article_containers[i].findAll('div', class_ = 'textDiv')\n",
    "        for a in article:\n",
    "            #print(a.a.text)\n",
    "            article_titles.append(a.a.text)\n",
    "            date = a.find('span', class_ = 'date')\n",
    "            dates.append(date.text)\n",
    "            #print(date.text)\n",
    "\n",
    "    \n",
    "    \n"
   ]
  },
  {
   "cell_type": "code",
   "execution_count": null,
   "id": "c84325b5-0d82-435c-9448-53604ff91e25",
   "metadata": {},
   "outputs": [],
   "source": [
    "article_titles"
   ]
  },
  {
   "cell_type": "code",
   "execution_count": null,
   "id": "8f7524c2-5d1e-4520-a8b0-9ff8d61f3fff",
   "metadata": {},
   "outputs": [],
   "source": [
    "dates"
   ]
  },
  {
   "cell_type": "code",
   "execution_count": null,
   "id": "6e901c0b-edbe-4138-af05-7d6508c4bb96",
   "metadata": {},
   "outputs": [],
   "source": [
    "for i in range(1, 1700, 5):\n",
    "    print(i)"
   ]
  },
  {
   "cell_type": "code",
   "execution_count": 22,
   "id": "37cbae8f-ff35-4833-89ad-56980843cc60",
   "metadata": {},
   "outputs": [
    {
     "data": {
      "text/html": [
       "<div>\n",
       "<style scoped>\n",
       "    .dataframe tbody tr th:only-of-type {\n",
       "        vertical-align: middle;\n",
       "    }\n",
       "\n",
       "    .dataframe tbody tr th {\n",
       "        vertical-align: top;\n",
       "    }\n",
       "\n",
       "    .dataframe thead th {\n",
       "        text-align: right;\n",
       "    }\n",
       "</style>\n",
       "<table border=\"1\" class=\"dataframe\">\n",
       "  <thead>\n",
       "    <tr style=\"text-align: right;\">\n",
       "      <th></th>\n",
       "      <th>Article Titles</th>\n",
       "      <th>Date</th>\n",
       "    </tr>\n",
       "  </thead>\n",
       "  <tbody>\n",
       "    <tr>\n",
       "      <th>0</th>\n",
       "      <td>U.S. stocks lower at close of trade; Dow Jones...</td>\n",
       "      <td>- 27 minutes ago</td>\n",
       "    </tr>\n",
       "    <tr>\n",
       "      <th>1</th>\n",
       "      <td>Stocks sink, notably tech, as Treasury yields ...</td>\n",
       "      <td>- 1 hour ago</td>\n",
       "    </tr>\n",
       "    <tr>\n",
       "      <th>2</th>\n",
       "      <td>S&amp;P 500 Closes Lower as Banks, Tech Lead Sea o...</td>\n",
       "      <td>- 1 hour ago</td>\n",
       "    </tr>\n",
       "    <tr>\n",
       "      <th>3</th>\n",
       "      <td>S&amp;P 500 on Back Foot as Goldman Leads Rout in ...</td>\n",
       "      <td>- 2 hours ago</td>\n",
       "    </tr>\n",
       "    <tr>\n",
       "      <th>4</th>\n",
       "      <td>Inverse ETFs Dominate as Stocks Struggle Again...</td>\n",
       "      <td>- 2 hours ago</td>\n",
       "    </tr>\n",
       "    <tr>\n",
       "      <th>...</th>\n",
       "      <td>...</td>\n",
       "      <td>...</td>\n",
       "    </tr>\n",
       "    <tr>\n",
       "      <th>3391</th>\n",
       "      <td>US STOCKS-Utilities advance market as leadersh...</td>\n",
       "      <td>- May 10, 2011</td>\n",
       "    </tr>\n",
       "    <tr>\n",
       "      <th>3392</th>\n",
       "      <td>US STOCKS-Utilities lift Wall Street as leader...</td>\n",
       "      <td>- May 10, 2011</td>\n",
       "    </tr>\n",
       "    <tr>\n",
       "      <th>3393</th>\n",
       "      <td>US STOCKS-Wall St rises on China data, sector ...</td>\n",
       "      <td>- May 10, 2011</td>\n",
       "    </tr>\n",
       "    <tr>\n",
       "      <th>3394</th>\n",
       "      <td>US STOCKS-Wall St set to rise after strong Chi...</td>\n",
       "      <td>- May 10, 2011</td>\n",
       "    </tr>\n",
       "    <tr>\n",
       "      <th>3395</th>\n",
       "      <td>US STOCKS-Futures gain after strong Chinese data</td>\n",
       "      <td>- May 10, 2011</td>\n",
       "    </tr>\n",
       "  </tbody>\n",
       "</table>\n",
       "<p>3396 rows × 2 columns</p>\n",
       "</div>"
      ],
      "text/plain": [
       "                                         Article Titles               Date\n",
       "0     U.S. stocks lower at close of trade; Dow Jones...   - 27 minutes ago\n",
       "1     Stocks sink, notably tech, as Treasury yields ...       - 1 hour ago\n",
       "2     S&P 500 Closes Lower as Banks, Tech Lead Sea o...       - 1 hour ago\n",
       "3     S&P 500 on Back Foot as Goldman Leads Rout in ...      - 2 hours ago\n",
       "4     Inverse ETFs Dominate as Stocks Struggle Again...      - 2 hours ago\n",
       "...                                                 ...                ...\n",
       "3391  US STOCKS-Utilities advance market as leadersh...     - May 10, 2011\n",
       "3392  US STOCKS-Utilities lift Wall Street as leader...     - May 10, 2011\n",
       "3393  US STOCKS-Wall St rises on China data, sector ...     - May 10, 2011\n",
       "3394  US STOCKS-Wall St set to rise after strong Chi...     - May 10, 2011\n",
       "3395   US STOCKS-Futures gain after strong Chinese data     - May 10, 2011\n",
       "\n",
       "[3396 rows x 2 columns]"
      ]
     },
     "execution_count": 22,
     "metadata": {},
     "output_type": "execute_result"
    }
   ],
   "source": [
    "df = pd.DataFrame([article_titles, dates]).T\n",
    "df.columns = ['Article Titles', 'Date']\n",
    "df"
   ]
  },
  {
   "cell_type": "code",
   "execution_count": 23,
   "id": "6a04ada9-475d-43cd-bed4-bb81473c3eae",
   "metadata": {},
   "outputs": [],
   "source": [
    "df.to_csv(\"sp500news.csv\")"
   ]
  },
  {
   "cell_type": "code",
   "execution_count": 25,
   "id": "27180cf5-ecd6-4b7e-b331-c07ec4e0df1d",
   "metadata": {},
   "outputs": [
    {
     "data": {
      "text/plain": [
       "'U.S. stocks lower at close of trade; Dow Jones Industrial Average down 1.51%'"
      ]
     },
     "execution_count": 25,
     "metadata": {},
     "output_type": "execute_result"
    }
   ],
   "source": [
    "df.iloc[0]['Article Titles']"
   ]
  },
  {
   "cell_type": "code",
   "execution_count": 8,
   "id": "1f58436e-a149-4429-ac03-e5324837b268",
   "metadata": {},
   "outputs": [],
   "source": [
    "# collect company news url's\n",
    "url = 'https://www.investing.com/search/?q=aapl'\n",
    "response = Request(url, headers={\"User-Agent\": \"Mozilla/5.0\"})\n",
    "response = urlopen(response).read()\n",
    "soup = BeautifulSoup(response, \"html.parser\")"
   ]
  },
  {
   "cell_type": "code",
   "execution_count": 17,
   "id": "b4a21dd5-d3fa-4ca5-ba8d-3d448dcdd565",
   "metadata": {},
   "outputs": [
    {
     "data": {
      "text/plain": [
       "'https://www.investing.com/equities/apple-computer-inc'"
      ]
     },
     "execution_count": 17,
     "metadata": {},
     "output_type": "execute_result"
    }
   ],
   "source": [
    "'https://www.investing.com' + soup.find('a', class_ = 'js-inner-all-results-quote-item row')['href']"
   ]
  },
  {
   "cell_type": "code",
   "execution_count": 3,
   "id": "833d3833-a556-41b7-b1bc-1aed7d09572b",
   "metadata": {},
   "outputs": [
    {
     "data": {
      "text/plain": [
       "0       MMM\n",
       "1       AOS\n",
       "2       ABT\n",
       "3      ABBV\n",
       "4      ABMD\n",
       "       ... \n",
       "500     YUM\n",
       "501    ZBRA\n",
       "502     ZBH\n",
       "503    ZION\n",
       "504     ZTS\n",
       "Name: Symbol, Length: 505, dtype: object"
      ]
     },
     "execution_count": 3,
     "metadata": {},
     "output_type": "execute_result"
    }
   ],
   "source": [
    "symbols = pd.read_csv('sp500.csv')['Symbol']\n",
    "symbols"
   ]
  },
  {
   "cell_type": "code",
   "execution_count": 8,
   "id": "ae047996-a0b8-421f-ad28-4b9ada6499d2",
   "metadata": {},
   "outputs": [
    {
     "data": {
      "text/plain": [
       "446    TJX\n",
       "Name: Symbol, dtype: object"
      ]
     },
     "execution_count": 8,
     "metadata": {},
     "output_type": "execute_result"
    }
   ],
   "source": [
    "symbols[symbols == \"TJX\"]"
   ]
  },
  {
   "cell_type": "code",
   "execution_count": 9,
   "id": "558caaae-ef50-42fd-b86f-ac984d2d9d8e",
   "metadata": {},
   "outputs": [
    {
     "name": "stdout",
     "output_type": "stream",
     "text": [
      "TJX\n",
      "Request:1; Frequency: 0.0629734556094915 requests/s\n",
      "https://www.investing.com/equities/tjx-co-inc-news\n",
      "TSCO\n",
      "Request:2; Frequency: 0.06322689739565518 requests/s\n",
      "https://www.investing.com/equities/tractor-supply-company-news\n",
      "TT\n",
      "Request:3; Frequency: 0.05712174812892622 requests/s\n",
      "https://www.investing.com/equities/trane-technologies-plc-news\n",
      "TDG\n",
      "Request:4; Frequency: 0.057624133733008016 requests/s\n",
      "https://www.investing.com/equities/transdigm-group-inc-news\n",
      "TRV\n",
      "Request:5; Frequency: 0.059242137692483834 requests/s\n",
      "https://www.investing.com/equities/the-travelers-co-news\n",
      "TRMB\n",
      "Request:6; Frequency: 0.05975713746844029 requests/s\n",
      "https://www.investing.com/equities/trimble-navigation-ltd-news\n",
      "TFC\n",
      "Request:7; Frequency: 0.06127612138168194 requests/s\n",
      "https://www.investing.com/equities/bb-t-corp-news\n",
      "TWTR\n",
      "Request:8; Frequency: 0.0614505856360089 requests/s\n",
      "https://www.investing.com/equities/twitter-inc-news\n",
      "TYL\n",
      "Request:9; Frequency: 0.060069060950983855 requests/s\n",
      "https://www.investing.com/equities/tyler-technologies-inc-news\n",
      "TSN\n",
      "Request:10; Frequency: 0.05859986620806723 requests/s\n",
      "https://www.investing.com/equities/tyson-foods-news\n",
      "UDR\n",
      "Request:11; Frequency: 0.058382929675883134 requests/s\n",
      "https://www.investing.com/equities/udr-news\n",
      "ULTA\n",
      "Request:12; Frequency: 0.057561561830156836 requests/s\n",
      "https://www.investing.com/equities/ulta-salon-cosmetics---fragrance-news\n",
      "USB\n",
      "Request:13; Frequency: 0.058491794394066654 requests/s\n",
      "https://www.investing.com/equities/us-bancorp-news\n",
      "UAA\n",
      "Request:14; Frequency: 0.059036061915637844 requests/s\n",
      "https://www.investing.com/equities/under-armour-news\n",
      "UA\n",
      "Request:15; Frequency: 0.05861906686014445 requests/s\n",
      "https://www.investing.com/equities/under-armour-c-news\n",
      "UNP\n",
      "Request:16; Frequency: 0.05928121534869948 requests/s\n",
      "https://www.investing.com/equities/union-pacific-news\n",
      "UAL\n",
      "Request:17; Frequency: 0.05886023314081978 requests/s\n",
      "https://www.investing.com/equities/united-continenta-news\n",
      "UNH\n",
      "Request:18; Frequency: 0.05813560437160287 requests/s\n",
      "https://www.investing.com/equities/united-health-group-news\n",
      "UPS\n",
      "Request:19; Frequency: 0.05857471355334046 requests/s\n",
      "https://www.investing.com/equities/united-parcel-news\n",
      "URI\n",
      "Request:20; Frequency: 0.058027396313480265 requests/s\n",
      "https://www.investing.com/equities/united-rentals-news\n",
      "UHS\n",
      "Request:21; Frequency: 0.058119178390493687 requests/s\n",
      "https://www.investing.com/equities/universal-health-services-news\n",
      "VLO\n",
      "Request:22; Frequency: 0.05845778318410362 requests/s\n",
      "https://www.investing.com/equities/valero-energy-news\n",
      "VTR\n",
      "Request:23; Frequency: 0.05832459373261418 requests/s\n",
      "https://www.investing.com/equities/ventas-inc-news\n",
      "VRSN\n",
      "Request:24; Frequency: 0.058099414684300923 requests/s\n",
      "https://www.investing.com/equities/verisign-inc-news\n",
      "VRSK\n",
      "Request:25; Frequency: 0.05793234858082914 requests/s\n",
      "https://www.investing.com/equities/verisk-analytics-inc-news\n",
      "VZ\n",
      "Request:26; Frequency: 0.057597283178781454 requests/s\n",
      "https://www.investing.com/equities/verizon-communications-news\n",
      "VRTX\n",
      "Request:27; Frequency: 0.05717224689030229 requests/s\n",
      "https://www.investing.com/equities/vertex-pharm-news\n",
      "VFC\n",
      "Request:28; Frequency: 0.057024844503033745 requests/s\n",
      "https://www.investing.com/equities/vf-corp-news\n",
      "VIAC\n",
      "Request:29; Frequency: 0.05667423118804485 requests/s\n",
      "https://www.investing.com/equities/viacom-cl-b-news\n",
      "VTRS\n",
      "Request:30; Frequency: 0.05697828108943728 requests/s\n",
      "https://www.investing.com/equities/mylan-inc-news\n",
      "V\n",
      "Request:31; Frequency: 0.05695105718546624 requests/s\n",
      "https://www.investing.com/equities/visa-inc-news\n",
      "VNO\n",
      "Request:32; Frequency: 0.057313540357968616 requests/s\n",
      "https://www.investing.com/equities/vornado-realty-news\n",
      "VMC\n",
      "Request:33; Frequency: 0.0571845095801082 requests/s\n",
      "https://www.investing.com/equities/vulcan-matrls-news\n",
      "WRB\n",
      "Request:34; Frequency: 0.05749202964765782 requests/s\n",
      "https://www.investing.com/equities/wr-berkley-corp-news\n",
      "WAB\n",
      "Request:35; Frequency: 0.0574534436708028 requests/s\n",
      "https://www.investing.com/equities/westinghouse-air-brake-tech-news\n",
      "WMT\n",
      "Request:36; Frequency: 0.057589499665998134 requests/s\n",
      "https://www.investing.com/equities/wal-mart-stores-news\n",
      "WBA\n",
      "Request:37; Frequency: 0.057913864657055454 requests/s\n",
      "https://www.investing.com/equities/walgreen-co-news\n",
      "DIS\n",
      "Request:38; Frequency: 0.05811114497955817 requests/s\n",
      "https://www.investing.com/equities/disney-news\n",
      "WM\n",
      "Request:39; Frequency: 0.05823002366584898 requests/s\n",
      "https://www.investing.com/equities/waste-managemnt-news\n",
      "WAT\n",
      "Request:40; Frequency: 0.0580590999810046 requests/s\n",
      "https://www.investing.com/equities/waters-corp-news\n",
      "WEC\n",
      "Request:41; Frequency: 0.05798717871215006 requests/s\n",
      "https://www.investing.com/equities/wisconsin-energy-corp-news\n",
      "WFC\n",
      "Request:42; Frequency: 0.05766370296122106 requests/s\n",
      "https://www.investing.com/equities/wells-fargo-news\n",
      "WELL\n",
      "Request:43; Frequency: 0.05794707746276533 requests/s\n",
      "https://www.investing.com/equities/health-care-reit-news\n",
      "WST\n",
      "Request:44; Frequency: 0.057701289200173235 requests/s\n",
      "https://www.investing.com/equities/west-pharmaceutical-services-inc-news\n",
      "WDC\n",
      "Request:45; Frequency: 0.05780695047039935 requests/s\n",
      "https://www.investing.com/equities/western-digital-news\n",
      "WRK\n",
      "Request:46; Frequency: 0.05790143441165811 requests/s\n",
      "https://www.investing.com/equities/westrock-co-news\n",
      "WY\n",
      "Request:47; Frequency: 0.05772224711864394 requests/s\n",
      "https://www.investing.com/equities/weyerhaeuser-news\n",
      "WHR\n",
      "Request:48; Frequency: 0.057548894117123085 requests/s\n",
      "https://www.investing.com/equities/whirl-pool-corp-news\n",
      "WMB\n",
      "Request:49; Frequency: 0.05738336550108522 requests/s\n",
      "https://www.investing.com/equities/williams-cos-news\n",
      "WTW\n",
      "Request:50; Frequency: 0.05761585993999055 requests/s\n",
      "https://www.investing.com/equities/willis-group-holdings-plc-news\n",
      "WYNN\n",
      "Request:51; Frequency: 0.05766351733904392 requests/s\n",
      "https://www.investing.com/equities/wynn-resorts-ltd-news\n",
      "XEL\n",
      "Request:52; Frequency: 0.057876687534499635 requests/s\n",
      "https://www.investing.com/equities/xcel-energy-news\n",
      "XLNX\n",
      "Request:53; Frequency: 0.05789331518913473 requests/s\n",
      "https://www.investing.com/equities/xilinx-inc-news\n",
      "XYL\n",
      "Request:54; Frequency: 0.05786919478876558 requests/s\n",
      "https://www.investing.com/equities/xylem-news\n",
      "YUM\n",
      "Request:55; Frequency: 0.05794686125629799 requests/s\n",
      "https://www.investing.com/equities/yum!-brands-inc-news\n",
      "ZBRA\n",
      "Request:56; Frequency: 0.05776744588535803 requests/s\n",
      "https://www.investing.com/equities/zebra-tech-news\n",
      "ZBH\n",
      "Request:57; Frequency: 0.05792986672994324 requests/s\n",
      "https://www.investing.com/equities/zimmer-hldgs-news\n",
      "ZION\n",
      "Request:58; Frequency: 0.05779239410856283 requests/s\n",
      "https://www.investing.com/equities/zions-bancorp-news\n",
      "ZTS\n",
      "Request:59; Frequency: 0.057670372905885406 requests/s\n",
      "https://www.investing.com/equities/zoetis-inc-news\n"
     ]
    }
   ],
   "source": [
    "url_list = []\n",
    "requests = 0\n",
    "start_time = time()\n",
    "file = open(\"sp500news_urls.txt\", \"a\")\n",
    "for i in range(446, len(symbols)):\n",
    "    #url = 'https://www.investing.com/search/?q=' + symbols.iloc[i]\n",
    "    if symbols.iloc[i] == \"BRK.B\":\n",
    "        url = 'https://www.investing.com/search/?q=BRK-B'\n",
    "    elif symbols.iloc[i] == \"BF.B\":\n",
    "        url = 'https://www.investing.com/search/?q=BF-B'\n",
    "    else:\n",
    "        url = 'https://www.investing.com/search/?q=' + symbols.iloc[i]\n",
    "    print(symbols.iloc[i])\n",
    "    response = Request(url, headers={\"User-Agent\": \"Mozilla/5.0\"})\n",
    "    status = urlopen(response).status\n",
    "    response = urlopen(response).read()\n",
    "    sleep(randint(8, 15))\n",
    "    requests += 1\n",
    "    elapsed_time = time() - start_time\n",
    "    print('Request:{}; Frequency: {} requests/s'.format(requests, requests/elapsed_time))\n",
    "    if status != 200:\n",
    "        warn('Request: {}; Status code: {}'.format(requests, response.status_code))\n",
    "    soup = BeautifulSoup(response, \"html.parser\")\n",
    "    url_container = 'https://www.investing.com' + soup.find('a', class_ = 'js-inner-all-results-quote-item row')['href'] + '-news'\n",
    "    file.write(url_container + \"\\n\")\n",
    "    print(url_container)\n",
    "    url_list.append(url_container)\n",
    "file.close()"
   ]
  },
  {
   "cell_type": "code",
   "execution_count": 13,
   "id": "ba80f4cc-9d00-4611-bd2c-2ea22d0ff04e",
   "metadata": {},
   "outputs": [
    {
     "data": {
      "text/plain": [
       "['https://www.investing.com/equities/tjx-co-inc-news',\n",
       " 'https://www.investing.com/equities/tractor-supply-company-news',\n",
       " 'https://www.investing.com/equities/trane-technologies-plc-news',\n",
       " 'https://www.investing.com/equities/transdigm-group-inc-news',\n",
       " 'https://www.investing.com/equities/the-travelers-co-news',\n",
       " 'https://www.investing.com/equities/trimble-navigation-ltd-news',\n",
       " 'https://www.investing.com/equities/bb-t-corp-news',\n",
       " 'https://www.investing.com/equities/twitter-inc-news',\n",
       " 'https://www.investing.com/equities/tyler-technologies-inc-news',\n",
       " 'https://www.investing.com/equities/tyson-foods-news',\n",
       " 'https://www.investing.com/equities/udr-news',\n",
       " 'https://www.investing.com/equities/ulta-salon-cosmetics---fragrance-news',\n",
       " 'https://www.investing.com/equities/us-bancorp-news',\n",
       " 'https://www.investing.com/equities/under-armour-news',\n",
       " 'https://www.investing.com/equities/under-armour-c-news',\n",
       " 'https://www.investing.com/equities/union-pacific-news',\n",
       " 'https://www.investing.com/equities/united-continenta-news',\n",
       " 'https://www.investing.com/equities/united-health-group-news',\n",
       " 'https://www.investing.com/equities/united-parcel-news',\n",
       " 'https://www.investing.com/equities/united-rentals-news',\n",
       " 'https://www.investing.com/equities/universal-health-services-news',\n",
       " 'https://www.investing.com/equities/valero-energy-news',\n",
       " 'https://www.investing.com/equities/ventas-inc-news',\n",
       " 'https://www.investing.com/equities/verisign-inc-news',\n",
       " 'https://www.investing.com/equities/verisk-analytics-inc-news',\n",
       " 'https://www.investing.com/equities/verizon-communications-news',\n",
       " 'https://www.investing.com/equities/vertex-pharm-news',\n",
       " 'https://www.investing.com/equities/vf-corp-news',\n",
       " 'https://www.investing.com/equities/viacom-cl-b-news',\n",
       " 'https://www.investing.com/equities/mylan-inc-news',\n",
       " 'https://www.investing.com/equities/visa-inc-news',\n",
       " 'https://www.investing.com/equities/vornado-realty-news',\n",
       " 'https://www.investing.com/equities/vulcan-matrls-news',\n",
       " 'https://www.investing.com/equities/wr-berkley-corp-news',\n",
       " 'https://www.investing.com/equities/westinghouse-air-brake-tech-news',\n",
       " 'https://www.investing.com/equities/wal-mart-stores-news',\n",
       " 'https://www.investing.com/equities/walgreen-co-news',\n",
       " 'https://www.investing.com/equities/disney-news',\n",
       " 'https://www.investing.com/equities/waste-managemnt-news',\n",
       " 'https://www.investing.com/equities/waters-corp-news',\n",
       " 'https://www.investing.com/equities/wisconsin-energy-corp-news',\n",
       " 'https://www.investing.com/equities/wells-fargo-news',\n",
       " 'https://www.investing.com/equities/health-care-reit-news',\n",
       " 'https://www.investing.com/equities/west-pharmaceutical-services-inc-news',\n",
       " 'https://www.investing.com/equities/western-digital-news',\n",
       " 'https://www.investing.com/equities/westrock-co-news',\n",
       " 'https://www.investing.com/equities/weyerhaeuser-news',\n",
       " 'https://www.investing.com/equities/whirl-pool-corp-news',\n",
       " 'https://www.investing.com/equities/williams-cos-news',\n",
       " 'https://www.investing.com/equities/willis-group-holdings-plc-news',\n",
       " 'https://www.investing.com/equities/wynn-resorts-ltd-news',\n",
       " 'https://www.investing.com/equities/xcel-energy-news',\n",
       " 'https://www.investing.com/equities/xilinx-inc-news',\n",
       " 'https://www.investing.com/equities/xylem-news',\n",
       " 'https://www.investing.com/equities/yum!-brands-inc-news',\n",
       " 'https://www.investing.com/equities/zebra-tech-news',\n",
       " 'https://www.investing.com/equities/zimmer-hldgs-news',\n",
       " 'https://www.investing.com/equities/zions-bancorp-news',\n",
       " 'https://www.investing.com/equities/zoetis-inc-news']"
      ]
     },
     "execution_count": 13,
     "metadata": {},
     "output_type": "execute_result"
    }
   ],
   "source": [
    "url_list"
   ]
  },
  {
   "cell_type": "code",
   "execution_count": null,
   "id": "80335c57-d98e-4db8-9855-75229f5c6156",
   "metadata": {},
   "outputs": [],
   "source": []
  }
 ],
 "metadata": {
  "kernelspec": {
   "display_name": "Python 3 (ipykernel)",
   "language": "python",
   "name": "python3"
  },
  "language_info": {
   "codemirror_mode": {
    "name": "ipython",
    "version": 3
   },
   "file_extension": ".py",
   "mimetype": "text/x-python",
   "name": "python",
   "nbconvert_exporter": "python",
   "pygments_lexer": "ipython3",
   "version": "3.7.3"
  }
 },
 "nbformat": 4,
 "nbformat_minor": 5
}
